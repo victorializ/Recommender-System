{
 "metadata": {
  "language_info": {
   "codemirror_mode": {
    "name": "ipython",
    "version": 3
   },
   "file_extension": ".py",
   "mimetype": "text/x-python",
   "name": "python",
   "nbconvert_exporter": "python",
   "pygments_lexer": "ipython3",
   "version": "3.8.3-final"
  },
  "orig_nbformat": 2,
  "kernelspec": {
   "name": "python3",
   "display_name": "Python 3",
   "language": "python"
  }
 },
 "nbformat": 4,
 "nbformat_minor": 2,
 "cells": [
  {
   "cell_type": "code",
   "execution_count": 1,
   "metadata": {
    "tags": []
   },
   "outputs": [
    {
     "output_type": "execute_result",
     "data": {
      "text/plain": [
       "                                         title  \\\n",
       "0                                       Avatar   \n",
       "1     Pirates of the Caribbean: At World's End   \n",
       "2                                      Spectre   \n",
       "3                        The Dark Knight Rises   \n",
       "4                                  John Carter   \n",
       "...                                        ...   \n",
       "4798                               El Mariachi   \n",
       "4799                                 Newlyweds   \n",
       "4800                 Signed, Sealed, Delivered   \n",
       "4801                          Shanghai Calling   \n",
       "4802                         My Date with Drew   \n",
       "\n",
       "                                        keywords_vector  \\\n",
       "0     cultureclash future spacewar spacecolony socie...   \n",
       "1     ocean drugabuse exoticisland eastindiatradingc...   \n",
       "2     spy basedonnovel secretagent sequel mi6 britis...   \n",
       "3     dccomics crimefighter terrorist secretidentity...   \n",
       "4     basedonnovel mars medallion spacetravel prince...   \n",
       "...                                                 ...   \n",
       "4798                    legs arms paperknife guitarcase   \n",
       "4799                                                      \n",
       "4800  date loveatfirstsight narration investigation ...   \n",
       "4801                                                      \n",
       "4802                obsession camcorder crush dreamgirl   \n",
       "\n",
       "                                genres_vector  \\\n",
       "0     action adventure fantasy sciencefiction   \n",
       "1                    adventure fantasy action   \n",
       "2                      action adventure crime   \n",
       "3                 action crime drama thriller   \n",
       "4             action adventure sciencefiction   \n",
       "...                                       ...   \n",
       "4798                    action crime thriller   \n",
       "4799                           comedy romance   \n",
       "4800             comedy drama romance tvmovie   \n",
       "4801                                            \n",
       "4802                              documentary   \n",
       "\n",
       "                                            cast_vector  \n",
       "0     samworthington zoesaldana sigourneyweaver step...  \n",
       "1     johnnydepp orlandobloom keiraknightley   billn...  \n",
       "2     danielcraig christophwaltz  ralphfiennes monic...  \n",
       "3     christianbale michaelcaine garyoldman annehath...  \n",
       "4     taylorkitsch lynncollins samanthamorton willem...  \n",
       "...                                                 ...  \n",
       "4798  carlosgallardo jaimedehoyos petermarquardt rei...  \n",
       "4799  edwardburns  marshadietlein caitlinfitzgerald ...  \n",
       "4800  ericmabius kristinbooth crystallowe geoffgusta...  \n",
       "4801  danielhenney elizacoupe billpaxton alanruck zh...  \n",
       "4802  drewbarrymore brianherzlinger coreyfeldman eri...  \n",
       "\n",
       "[4803 rows x 4 columns]"
      ],
      "text/html": "<div>\n<style scoped>\n    .dataframe tbody tr th:only-of-type {\n        vertical-align: middle;\n    }\n\n    .dataframe tbody tr th {\n        vertical-align: top;\n    }\n\n    .dataframe thead th {\n        text-align: right;\n    }\n</style>\n<table border=\"1\" class=\"dataframe\">\n  <thead>\n    <tr style=\"text-align: right;\">\n      <th></th>\n      <th>title</th>\n      <th>keywords_vector</th>\n      <th>genres_vector</th>\n      <th>cast_vector</th>\n    </tr>\n  </thead>\n  <tbody>\n    <tr>\n      <th>0</th>\n      <td>Avatar</td>\n      <td>cultureclash future spacewar spacecolony socie...</td>\n      <td>action adventure fantasy sciencefiction</td>\n      <td>samworthington zoesaldana sigourneyweaver step...</td>\n    </tr>\n    <tr>\n      <th>1</th>\n      <td>Pirates of the Caribbean: At World's End</td>\n      <td>ocean drugabuse exoticisland eastindiatradingc...</td>\n      <td>adventure fantasy action</td>\n      <td>johnnydepp orlandobloom keiraknightley   billn...</td>\n    </tr>\n    <tr>\n      <th>2</th>\n      <td>Spectre</td>\n      <td>spy basedonnovel secretagent sequel mi6 britis...</td>\n      <td>action adventure crime</td>\n      <td>danielcraig christophwaltz  ralphfiennes monic...</td>\n    </tr>\n    <tr>\n      <th>3</th>\n      <td>The Dark Knight Rises</td>\n      <td>dccomics crimefighter terrorist secretidentity...</td>\n      <td>action crime drama thriller</td>\n      <td>christianbale michaelcaine garyoldman annehath...</td>\n    </tr>\n    <tr>\n      <th>4</th>\n      <td>John Carter</td>\n      <td>basedonnovel mars medallion spacetravel prince...</td>\n      <td>action adventure sciencefiction</td>\n      <td>taylorkitsch lynncollins samanthamorton willem...</td>\n    </tr>\n    <tr>\n      <th>...</th>\n      <td>...</td>\n      <td>...</td>\n      <td>...</td>\n      <td>...</td>\n    </tr>\n    <tr>\n      <th>4798</th>\n      <td>El Mariachi</td>\n      <td>legs arms paperknife guitarcase</td>\n      <td>action crime thriller</td>\n      <td>carlosgallardo jaimedehoyos petermarquardt rei...</td>\n    </tr>\n    <tr>\n      <th>4799</th>\n      <td>Newlyweds</td>\n      <td></td>\n      <td>comedy romance</td>\n      <td>edwardburns  marshadietlein caitlinfitzgerald ...</td>\n    </tr>\n    <tr>\n      <th>4800</th>\n      <td>Signed, Sealed, Delivered</td>\n      <td>date loveatfirstsight narration investigation ...</td>\n      <td>comedy drama romance tvmovie</td>\n      <td>ericmabius kristinbooth crystallowe geoffgusta...</td>\n    </tr>\n    <tr>\n      <th>4801</th>\n      <td>Shanghai Calling</td>\n      <td></td>\n      <td></td>\n      <td>danielhenney elizacoupe billpaxton alanruck zh...</td>\n    </tr>\n    <tr>\n      <th>4802</th>\n      <td>My Date with Drew</td>\n      <td>obsession camcorder crush dreamgirl</td>\n      <td>documentary</td>\n      <td>drewbarrymore brianherzlinger coreyfeldman eri...</td>\n    </tr>\n  </tbody>\n</table>\n<p>4803 rows × 4 columns</p>\n</div>"
     },
     "metadata": {},
     "execution_count": 1
    }
   ],
   "source": [
    "import pandas as pd\n",
    "from ast import literal_eval\n",
    "\n",
    "#read data\n",
    "df_credits = pd.read_csv('tmdb_5000_credits.csv')\n",
    "df_movies = pd.read_csv('tmdb_5000_movies.csv')\n",
    "\n",
    "df_credits.pop('title')\n",
    "df_credits.columns = ['id', 'cast', 'crew']\n",
    "df = df_credits.merge(df_movies, on='id')\n",
    "\n",
    "features = ['keywords', 'genres', 'cast']\n",
    "\n",
    "import re\n",
    "charRe = re.compile(r'[^a-zA-Z0-9.]')\n",
    "\n",
    "def clean_value(value):\n",
    "    without_spaces = value.replace(\" \", \"\")\n",
    "    string = charRe.search(without_spaces)\n",
    "    if not bool(string):\n",
    "        return str.lower(without_spaces)\n",
    "    else:\n",
    "        return \"\"\n",
    "\n",
    "def to_string_of_values(arr):\n",
    "    values = [clean_value(obj['name']) for obj in literal_eval(arr)]\n",
    "    return ' '.join(values)\n",
    "\n",
    "for feature in features:\n",
    "    key = f'{feature}_vector'\n",
    "    df[key] = df[feature].copy().apply(to_string_of_values)\n",
    "\n",
    "df[['title', 'keywords_vector', 'genres_vector', 'cast_vector']]"
   ]
  },
  {
   "cell_type": "code",
   "execution_count": 2,
   "metadata": {},
   "outputs": [],
   "source": [
    "ids = df['id'].to_list()"
   ]
  },
  {
   "cell_type": "code",
   "execution_count": 3,
   "metadata": {},
   "outputs": [],
   "source": [
    "from sklearn.feature_extraction.text import CountVectorizer\n",
    "\n",
    "def vectorize(feature_name):\n",
    "    feature = df[feature_name].to_list()\n",
    "    vectorizer = CountVectorizer(feature)\n",
    "    vector = vectorizer.fit_transform(feature)\n",
    "    #df[feature_name] = pd.Series(vector.toarray().data.tolist())\n",
    "    return vectorizer, vector\n",
    "\n",
    "def visualize_vector(vectorizer, vector):\n",
    "    features = vectorizer.get_feature_names()\n",
    "    table = pd.DataFrame(vector.toarray(), columns=features)\n",
    "    table = pd.DataFrame(df['title']).join(table)\n",
    "    return table"
   ]
  },
  {
   "cell_type": "code",
   "execution_count": 4,
   "metadata": {},
   "outputs": [
    {
     "output_type": "execute_result",
     "data": {
      "text/plain": [
       "                                         title  action  adventure  animation  \\\n",
       "0                                       Avatar       1          1          0   \n",
       "1     Pirates of the Caribbean: At World's End       1          1          0   \n",
       "2                                      Spectre       1          1          0   \n",
       "3                        The Dark Knight Rises       1          0          0   \n",
       "4                                  John Carter       1          1          0   \n",
       "...                                        ...     ...        ...        ...   \n",
       "4798                               El Mariachi       1          0          0   \n",
       "4799                                 Newlyweds       0          0          0   \n",
       "4800                 Signed, Sealed, Delivered       0          0          0   \n",
       "4801                          Shanghai Calling       0          0          0   \n",
       "4802                         My Date with Drew       0          0          0   \n",
       "\n",
       "      comedy  crime  documentary  drama  family  fantasy  ...  history  \\\n",
       "0          0      0            0      0       0        1  ...        0   \n",
       "1          0      0            0      0       0        1  ...        0   \n",
       "2          0      1            0      0       0        0  ...        0   \n",
       "3          0      1            0      1       0        0  ...        0   \n",
       "4          0      0            0      0       0        0  ...        0   \n",
       "...      ...    ...          ...    ...     ...      ...  ...      ...   \n",
       "4798       0      1            0      0       0        0  ...        0   \n",
       "4799       1      0            0      0       0        0  ...        0   \n",
       "4800       1      0            0      1       0        0  ...        0   \n",
       "4801       0      0            0      0       0        0  ...        0   \n",
       "4802       0      0            1      0       0        0  ...        0   \n",
       "\n",
       "      horror  music  mystery  romance  sciencefiction  thriller  tvmovie  war  \\\n",
       "0          0      0        0        0               1         0        0    0   \n",
       "1          0      0        0        0               0         0        0    0   \n",
       "2          0      0        0        0               0         0        0    0   \n",
       "3          0      0        0        0               0         1        0    0   \n",
       "4          0      0        0        0               1         0        0    0   \n",
       "...      ...    ...      ...      ...             ...       ...      ...  ...   \n",
       "4798       0      0        0        0               0         1        0    0   \n",
       "4799       0      0        0        1               0         0        0    0   \n",
       "4800       0      0        0        1               0         0        1    0   \n",
       "4801       0      0        0        0               0         0        0    0   \n",
       "4802       0      0        0        0               0         0        0    0   \n",
       "\n",
       "      western  \n",
       "0           0  \n",
       "1           0  \n",
       "2           0  \n",
       "3           0  \n",
       "4           0  \n",
       "...       ...  \n",
       "4798        0  \n",
       "4799        0  \n",
       "4800        0  \n",
       "4801        0  \n",
       "4802        0  \n",
       "\n",
       "[4803 rows x 21 columns]"
      ],
      "text/html": "<div>\n<style scoped>\n    .dataframe tbody tr th:only-of-type {\n        vertical-align: middle;\n    }\n\n    .dataframe tbody tr th {\n        vertical-align: top;\n    }\n\n    .dataframe thead th {\n        text-align: right;\n    }\n</style>\n<table border=\"1\" class=\"dataframe\">\n  <thead>\n    <tr style=\"text-align: right;\">\n      <th></th>\n      <th>title</th>\n      <th>action</th>\n      <th>adventure</th>\n      <th>animation</th>\n      <th>comedy</th>\n      <th>crime</th>\n      <th>documentary</th>\n      <th>drama</th>\n      <th>family</th>\n      <th>fantasy</th>\n      <th>...</th>\n      <th>history</th>\n      <th>horror</th>\n      <th>music</th>\n      <th>mystery</th>\n      <th>romance</th>\n      <th>sciencefiction</th>\n      <th>thriller</th>\n      <th>tvmovie</th>\n      <th>war</th>\n      <th>western</th>\n    </tr>\n  </thead>\n  <tbody>\n    <tr>\n      <th>0</th>\n      <td>Avatar</td>\n      <td>1</td>\n      <td>1</td>\n      <td>0</td>\n      <td>0</td>\n      <td>0</td>\n      <td>0</td>\n      <td>0</td>\n      <td>0</td>\n      <td>1</td>\n      <td>...</td>\n      <td>0</td>\n      <td>0</td>\n      <td>0</td>\n      <td>0</td>\n      <td>0</td>\n      <td>1</td>\n      <td>0</td>\n      <td>0</td>\n      <td>0</td>\n      <td>0</td>\n    </tr>\n    <tr>\n      <th>1</th>\n      <td>Pirates of the Caribbean: At World's End</td>\n      <td>1</td>\n      <td>1</td>\n      <td>0</td>\n      <td>0</td>\n      <td>0</td>\n      <td>0</td>\n      <td>0</td>\n      <td>0</td>\n      <td>1</td>\n      <td>...</td>\n      <td>0</td>\n      <td>0</td>\n      <td>0</td>\n      <td>0</td>\n      <td>0</td>\n      <td>0</td>\n      <td>0</td>\n      <td>0</td>\n      <td>0</td>\n      <td>0</td>\n    </tr>\n    <tr>\n      <th>2</th>\n      <td>Spectre</td>\n      <td>1</td>\n      <td>1</td>\n      <td>0</td>\n      <td>0</td>\n      <td>1</td>\n      <td>0</td>\n      <td>0</td>\n      <td>0</td>\n      <td>0</td>\n      <td>...</td>\n      <td>0</td>\n      <td>0</td>\n      <td>0</td>\n      <td>0</td>\n      <td>0</td>\n      <td>0</td>\n      <td>0</td>\n      <td>0</td>\n      <td>0</td>\n      <td>0</td>\n    </tr>\n    <tr>\n      <th>3</th>\n      <td>The Dark Knight Rises</td>\n      <td>1</td>\n      <td>0</td>\n      <td>0</td>\n      <td>0</td>\n      <td>1</td>\n      <td>0</td>\n      <td>1</td>\n      <td>0</td>\n      <td>0</td>\n      <td>...</td>\n      <td>0</td>\n      <td>0</td>\n      <td>0</td>\n      <td>0</td>\n      <td>0</td>\n      <td>0</td>\n      <td>1</td>\n      <td>0</td>\n      <td>0</td>\n      <td>0</td>\n    </tr>\n    <tr>\n      <th>4</th>\n      <td>John Carter</td>\n      <td>1</td>\n      <td>1</td>\n      <td>0</td>\n      <td>0</td>\n      <td>0</td>\n      <td>0</td>\n      <td>0</td>\n      <td>0</td>\n      <td>0</td>\n      <td>...</td>\n      <td>0</td>\n      <td>0</td>\n      <td>0</td>\n      <td>0</td>\n      <td>0</td>\n      <td>1</td>\n      <td>0</td>\n      <td>0</td>\n      <td>0</td>\n      <td>0</td>\n    </tr>\n    <tr>\n      <th>...</th>\n      <td>...</td>\n      <td>...</td>\n      <td>...</td>\n      <td>...</td>\n      <td>...</td>\n      <td>...</td>\n      <td>...</td>\n      <td>...</td>\n      <td>...</td>\n      <td>...</td>\n      <td>...</td>\n      <td>...</td>\n      <td>...</td>\n      <td>...</td>\n      <td>...</td>\n      <td>...</td>\n      <td>...</td>\n      <td>...</td>\n      <td>...</td>\n      <td>...</td>\n      <td>...</td>\n    </tr>\n    <tr>\n      <th>4798</th>\n      <td>El Mariachi</td>\n      <td>1</td>\n      <td>0</td>\n      <td>0</td>\n      <td>0</td>\n      <td>1</td>\n      <td>0</td>\n      <td>0</td>\n      <td>0</td>\n      <td>0</td>\n      <td>...</td>\n      <td>0</td>\n      <td>0</td>\n      <td>0</td>\n      <td>0</td>\n      <td>0</td>\n      <td>0</td>\n      <td>1</td>\n      <td>0</td>\n      <td>0</td>\n      <td>0</td>\n    </tr>\n    <tr>\n      <th>4799</th>\n      <td>Newlyweds</td>\n      <td>0</td>\n      <td>0</td>\n      <td>0</td>\n      <td>1</td>\n      <td>0</td>\n      <td>0</td>\n      <td>0</td>\n      <td>0</td>\n      <td>0</td>\n      <td>...</td>\n      <td>0</td>\n      <td>0</td>\n      <td>0</td>\n      <td>0</td>\n      <td>1</td>\n      <td>0</td>\n      <td>0</td>\n      <td>0</td>\n      <td>0</td>\n      <td>0</td>\n    </tr>\n    <tr>\n      <th>4800</th>\n      <td>Signed, Sealed, Delivered</td>\n      <td>0</td>\n      <td>0</td>\n      <td>0</td>\n      <td>1</td>\n      <td>0</td>\n      <td>0</td>\n      <td>1</td>\n      <td>0</td>\n      <td>0</td>\n      <td>...</td>\n      <td>0</td>\n      <td>0</td>\n      <td>0</td>\n      <td>0</td>\n      <td>1</td>\n      <td>0</td>\n      <td>0</td>\n      <td>1</td>\n      <td>0</td>\n      <td>0</td>\n    </tr>\n    <tr>\n      <th>4801</th>\n      <td>Shanghai Calling</td>\n      <td>0</td>\n      <td>0</td>\n      <td>0</td>\n      <td>0</td>\n      <td>0</td>\n      <td>0</td>\n      <td>0</td>\n      <td>0</td>\n      <td>0</td>\n      <td>...</td>\n      <td>0</td>\n      <td>0</td>\n      <td>0</td>\n      <td>0</td>\n      <td>0</td>\n      <td>0</td>\n      <td>0</td>\n      <td>0</td>\n      <td>0</td>\n      <td>0</td>\n    </tr>\n    <tr>\n      <th>4802</th>\n      <td>My Date with Drew</td>\n      <td>0</td>\n      <td>0</td>\n      <td>0</td>\n      <td>0</td>\n      <td>0</td>\n      <td>1</td>\n      <td>0</td>\n      <td>0</td>\n      <td>0</td>\n      <td>...</td>\n      <td>0</td>\n      <td>0</td>\n      <td>0</td>\n      <td>0</td>\n      <td>0</td>\n      <td>0</td>\n      <td>0</td>\n      <td>0</td>\n      <td>0</td>\n      <td>0</td>\n    </tr>\n  </tbody>\n</table>\n<p>4803 rows × 21 columns</p>\n</div>"
     },
     "metadata": {},
     "execution_count": 4
    }
   ],
   "source": [
    "genres_vectorizer, genres_vector = vectorize('genres_vector')\n",
    "visualize_vector(genres_vectorizer, genres_vector)"
   ]
  },
  {
   "cell_type": "code",
   "execution_count": 5,
   "metadata": {},
   "outputs": [
    {
     "output_type": "execute_result",
     "data": {
      "text/plain": [
       "                                         title  15thcentury  16thcentury  \\\n",
       "0                                       Avatar            0            0   \n",
       "1     Pirates of the Caribbean: At World's End            0            0   \n",
       "2                                      Spectre            0            0   \n",
       "3                        The Dark Knight Rises            0            0   \n",
       "4                                  John Carter            0            0   \n",
       "...                                        ...          ...          ...   \n",
       "4798                               El Mariachi            0            0   \n",
       "4799                                 Newlyweds            0            0   \n",
       "4800                 Signed, Sealed, Delivered            0            0   \n",
       "4801                          Shanghai Calling            0            0   \n",
       "4802                         My Date with Drew            0            0   \n",
       "\n",
       "      17thcentury  18thcentury  1910s  1920s  1930s  1940s  1950s  ...  \\\n",
       "0               0            0      0      0      0      0      0  ...   \n",
       "1               0            0      0      0      0      0      0  ...   \n",
       "2               0            0      0      0      0      0      0  ...   \n",
       "3               0            0      0      0      0      0      0  ...   \n",
       "4               0            0      0      0      0      0      0  ...   \n",
       "...           ...          ...    ...    ...    ...    ...    ...  ...   \n",
       "4798            0            0      0      0      0      0      0  ...   \n",
       "4799            0            0      0      0      0      0      0  ...   \n",
       "4800            0            0      0      0      0      0      0  ...   \n",
       "4801            0            0      0      0      0      0      0  ...   \n",
       "4802            0            0      0      0      0      0      0  ...   \n",
       "\n",
       "      zeppelin  zerogravity  zeus  zipline  zombie  zombieapocalypse  \\\n",
       "0            0            0     0        0       0                 0   \n",
       "1            0            0     0        0       0                 0   \n",
       "2            0            0     0        0       0                 0   \n",
       "3            0            0     0        0       0                 0   \n",
       "4            0            0     0        0       0                 0   \n",
       "...        ...          ...   ...      ...     ...               ...   \n",
       "4798         0            0     0        0       0                 0   \n",
       "4799         0            0     0        0       0                 0   \n",
       "4800         0            0     0        0       0                 0   \n",
       "4801         0            0     0        0       0                 0   \n",
       "4802         0            0     0        0       0                 0   \n",
       "\n",
       "      zombification  zoo  zookeeper  zurich  \n",
       "0                 0    0          0       0  \n",
       "1                 0    0          0       0  \n",
       "2                 0    0          0       0  \n",
       "3                 0    0          0       0  \n",
       "4                 0    0          0       0  \n",
       "...             ...  ...        ...     ...  \n",
       "4798              0    0          0       0  \n",
       "4799              0    0          0       0  \n",
       "4800              0    0          0       0  \n",
       "4801              0    0          0       0  \n",
       "4802              0    0          0       0  \n",
       "\n",
       "[4803 rows x 9522 columns]"
      ],
      "text/html": "<div>\n<style scoped>\n    .dataframe tbody tr th:only-of-type {\n        vertical-align: middle;\n    }\n\n    .dataframe tbody tr th {\n        vertical-align: top;\n    }\n\n    .dataframe thead th {\n        text-align: right;\n    }\n</style>\n<table border=\"1\" class=\"dataframe\">\n  <thead>\n    <tr style=\"text-align: right;\">\n      <th></th>\n      <th>title</th>\n      <th>15thcentury</th>\n      <th>16thcentury</th>\n      <th>17thcentury</th>\n      <th>18thcentury</th>\n      <th>1910s</th>\n      <th>1920s</th>\n      <th>1930s</th>\n      <th>1940s</th>\n      <th>1950s</th>\n      <th>...</th>\n      <th>zeppelin</th>\n      <th>zerogravity</th>\n      <th>zeus</th>\n      <th>zipline</th>\n      <th>zombie</th>\n      <th>zombieapocalypse</th>\n      <th>zombification</th>\n      <th>zoo</th>\n      <th>zookeeper</th>\n      <th>zurich</th>\n    </tr>\n  </thead>\n  <tbody>\n    <tr>\n      <th>0</th>\n      <td>Avatar</td>\n      <td>0</td>\n      <td>0</td>\n      <td>0</td>\n      <td>0</td>\n      <td>0</td>\n      <td>0</td>\n      <td>0</td>\n      <td>0</td>\n      <td>0</td>\n      <td>...</td>\n      <td>0</td>\n      <td>0</td>\n      <td>0</td>\n      <td>0</td>\n      <td>0</td>\n      <td>0</td>\n      <td>0</td>\n      <td>0</td>\n      <td>0</td>\n      <td>0</td>\n    </tr>\n    <tr>\n      <th>1</th>\n      <td>Pirates of the Caribbean: At World's End</td>\n      <td>0</td>\n      <td>0</td>\n      <td>0</td>\n      <td>0</td>\n      <td>0</td>\n      <td>0</td>\n      <td>0</td>\n      <td>0</td>\n      <td>0</td>\n      <td>...</td>\n      <td>0</td>\n      <td>0</td>\n      <td>0</td>\n      <td>0</td>\n      <td>0</td>\n      <td>0</td>\n      <td>0</td>\n      <td>0</td>\n      <td>0</td>\n      <td>0</td>\n    </tr>\n    <tr>\n      <th>2</th>\n      <td>Spectre</td>\n      <td>0</td>\n      <td>0</td>\n      <td>0</td>\n      <td>0</td>\n      <td>0</td>\n      <td>0</td>\n      <td>0</td>\n      <td>0</td>\n      <td>0</td>\n      <td>...</td>\n      <td>0</td>\n      <td>0</td>\n      <td>0</td>\n      <td>0</td>\n      <td>0</td>\n      <td>0</td>\n      <td>0</td>\n      <td>0</td>\n      <td>0</td>\n      <td>0</td>\n    </tr>\n    <tr>\n      <th>3</th>\n      <td>The Dark Knight Rises</td>\n      <td>0</td>\n      <td>0</td>\n      <td>0</td>\n      <td>0</td>\n      <td>0</td>\n      <td>0</td>\n      <td>0</td>\n      <td>0</td>\n      <td>0</td>\n      <td>...</td>\n      <td>0</td>\n      <td>0</td>\n      <td>0</td>\n      <td>0</td>\n      <td>0</td>\n      <td>0</td>\n      <td>0</td>\n      <td>0</td>\n      <td>0</td>\n      <td>0</td>\n    </tr>\n    <tr>\n      <th>4</th>\n      <td>John Carter</td>\n      <td>0</td>\n      <td>0</td>\n      <td>0</td>\n      <td>0</td>\n      <td>0</td>\n      <td>0</td>\n      <td>0</td>\n      <td>0</td>\n      <td>0</td>\n      <td>...</td>\n      <td>0</td>\n      <td>0</td>\n      <td>0</td>\n      <td>0</td>\n      <td>0</td>\n      <td>0</td>\n      <td>0</td>\n      <td>0</td>\n      <td>0</td>\n      <td>0</td>\n    </tr>\n    <tr>\n      <th>...</th>\n      <td>...</td>\n      <td>...</td>\n      <td>...</td>\n      <td>...</td>\n      <td>...</td>\n      <td>...</td>\n      <td>...</td>\n      <td>...</td>\n      <td>...</td>\n      <td>...</td>\n      <td>...</td>\n      <td>...</td>\n      <td>...</td>\n      <td>...</td>\n      <td>...</td>\n      <td>...</td>\n      <td>...</td>\n      <td>...</td>\n      <td>...</td>\n      <td>...</td>\n      <td>...</td>\n    </tr>\n    <tr>\n      <th>4798</th>\n      <td>El Mariachi</td>\n      <td>0</td>\n      <td>0</td>\n      <td>0</td>\n      <td>0</td>\n      <td>0</td>\n      <td>0</td>\n      <td>0</td>\n      <td>0</td>\n      <td>0</td>\n      <td>...</td>\n      <td>0</td>\n      <td>0</td>\n      <td>0</td>\n      <td>0</td>\n      <td>0</td>\n      <td>0</td>\n      <td>0</td>\n      <td>0</td>\n      <td>0</td>\n      <td>0</td>\n    </tr>\n    <tr>\n      <th>4799</th>\n      <td>Newlyweds</td>\n      <td>0</td>\n      <td>0</td>\n      <td>0</td>\n      <td>0</td>\n      <td>0</td>\n      <td>0</td>\n      <td>0</td>\n      <td>0</td>\n      <td>0</td>\n      <td>...</td>\n      <td>0</td>\n      <td>0</td>\n      <td>0</td>\n      <td>0</td>\n      <td>0</td>\n      <td>0</td>\n      <td>0</td>\n      <td>0</td>\n      <td>0</td>\n      <td>0</td>\n    </tr>\n    <tr>\n      <th>4800</th>\n      <td>Signed, Sealed, Delivered</td>\n      <td>0</td>\n      <td>0</td>\n      <td>0</td>\n      <td>0</td>\n      <td>0</td>\n      <td>0</td>\n      <td>0</td>\n      <td>0</td>\n      <td>0</td>\n      <td>...</td>\n      <td>0</td>\n      <td>0</td>\n      <td>0</td>\n      <td>0</td>\n      <td>0</td>\n      <td>0</td>\n      <td>0</td>\n      <td>0</td>\n      <td>0</td>\n      <td>0</td>\n    </tr>\n    <tr>\n      <th>4801</th>\n      <td>Shanghai Calling</td>\n      <td>0</td>\n      <td>0</td>\n      <td>0</td>\n      <td>0</td>\n      <td>0</td>\n      <td>0</td>\n      <td>0</td>\n      <td>0</td>\n      <td>0</td>\n      <td>...</td>\n      <td>0</td>\n      <td>0</td>\n      <td>0</td>\n      <td>0</td>\n      <td>0</td>\n      <td>0</td>\n      <td>0</td>\n      <td>0</td>\n      <td>0</td>\n      <td>0</td>\n    </tr>\n    <tr>\n      <th>4802</th>\n      <td>My Date with Drew</td>\n      <td>0</td>\n      <td>0</td>\n      <td>0</td>\n      <td>0</td>\n      <td>0</td>\n      <td>0</td>\n      <td>0</td>\n      <td>0</td>\n      <td>0</td>\n      <td>...</td>\n      <td>0</td>\n      <td>0</td>\n      <td>0</td>\n      <td>0</td>\n      <td>0</td>\n      <td>0</td>\n      <td>0</td>\n      <td>0</td>\n      <td>0</td>\n      <td>0</td>\n    </tr>\n  </tbody>\n</table>\n<p>4803 rows × 9522 columns</p>\n</div>"
     },
     "metadata": {},
     "execution_count": 5
    }
   ],
   "source": [
    "keywords_vectorizer, keywords_vector = vectorize('keywords_vector')\n",
    "visualize_vector(keywords_vectorizer, keywords_vector)"
   ]
  },
  {
   "cell_type": "code",
   "execution_count": 6,
   "metadata": {},
   "outputs": [
    {
     "output_type": "execute_result",
     "data": {
      "text/plain": [
       "                                         title  50cent  aadukalamnaren  \\\n",
       "0                                       Avatar       0               0   \n",
       "1     Pirates of the Caribbean: At World's End       0               0   \n",
       "2                                      Spectre       0               0   \n",
       "3                        The Dark Knight Rises       0               0   \n",
       "4                                  John Carter       0               0   \n",
       "...                                        ...     ...             ...   \n",
       "4798                               El Mariachi       0               0   \n",
       "4799                                 Newlyweds       0               0   \n",
       "4800                 Signed, Sealed, Delivered       0               0   \n",
       "4801                          Shanghai Calling       0               0   \n",
       "4802                         My Date with Drew       0               0   \n",
       "\n",
       "      aakomonjones  aaliyah  aamirkhan  aaranthomas  aaronabrams  \\\n",
       "0                0        0          0            0            0   \n",
       "1                0        0          0            0            0   \n",
       "2                0        0          0            0            0   \n",
       "3                0        0          0            0            0   \n",
       "4                0        0          0            0            0   \n",
       "...            ...      ...        ...          ...          ...   \n",
       "4798             0        0          0            0            0   \n",
       "4799             0        0          0            0            0   \n",
       "4800             0        0          0            0            0   \n",
       "4801             0        0          0            0            0   \n",
       "4802             0        0          0            0            0   \n",
       "\n",
       "      aaronashmore  aaronau  ...  zuleykasilver  zully  zullymontero  zumajay  \\\n",
       "0                0        0  ...              0      0             0        0   \n",
       "1                0        0  ...              0      0             0        0   \n",
       "2                0        0  ...              0      0             0        0   \n",
       "3                0        0  ...              0      0             0        0   \n",
       "4                0        0  ...              0      0             0        0   \n",
       "...            ...      ...  ...            ...    ...           ...      ...   \n",
       "4798             0        0  ...              0      0             0        0   \n",
       "4799             0        0  ...              0      0             0        0   \n",
       "4800             0        0  ...              0      0             0        0   \n",
       "4801             0        0  ...              0      0             0        0   \n",
       "4802             0        0  ...              0      0             0        0   \n",
       "\n",
       "      zumelmichel  zuoxiaoqing  zupancic  zurijames  zveescooler  \\\n",
       "0               0            0         0          0            0   \n",
       "1               0            0         0          0            0   \n",
       "2               0            0         0          0            0   \n",
       "3               0            0         0          0            0   \n",
       "4               0            0         0          0            0   \n",
       "...           ...          ...       ...        ...          ...   \n",
       "4798            0            0         0          0            0   \n",
       "4799            0            0         0          0            0   \n",
       "4800            0            0         0          0            0   \n",
       "4801            0            0         0          0            0   \n",
       "4802            0            0         0          0            0   \n",
       "\n",
       "      zydrunasilgauskas  \n",
       "0                     0  \n",
       "1                     0  \n",
       "2                     0  \n",
       "3                     0  \n",
       "4                     0  \n",
       "...                 ...  \n",
       "4798                  0  \n",
       "4799                  0  \n",
       "4800                  0  \n",
       "4801                  0  \n",
       "4802                  0  \n",
       "\n",
       "[4803 rows x 51570 columns]"
      ],
      "text/html": "<div>\n<style scoped>\n    .dataframe tbody tr th:only-of-type {\n        vertical-align: middle;\n    }\n\n    .dataframe tbody tr th {\n        vertical-align: top;\n    }\n\n    .dataframe thead th {\n        text-align: right;\n    }\n</style>\n<table border=\"1\" class=\"dataframe\">\n  <thead>\n    <tr style=\"text-align: right;\">\n      <th></th>\n      <th>title</th>\n      <th>50cent</th>\n      <th>aadukalamnaren</th>\n      <th>aakomonjones</th>\n      <th>aaliyah</th>\n      <th>aamirkhan</th>\n      <th>aaranthomas</th>\n      <th>aaronabrams</th>\n      <th>aaronashmore</th>\n      <th>aaronau</th>\n      <th>...</th>\n      <th>zuleykasilver</th>\n      <th>zully</th>\n      <th>zullymontero</th>\n      <th>zumajay</th>\n      <th>zumelmichel</th>\n      <th>zuoxiaoqing</th>\n      <th>zupancic</th>\n      <th>zurijames</th>\n      <th>zveescooler</th>\n      <th>zydrunasilgauskas</th>\n    </tr>\n  </thead>\n  <tbody>\n    <tr>\n      <th>0</th>\n      <td>Avatar</td>\n      <td>0</td>\n      <td>0</td>\n      <td>0</td>\n      <td>0</td>\n      <td>0</td>\n      <td>0</td>\n      <td>0</td>\n      <td>0</td>\n      <td>0</td>\n      <td>...</td>\n      <td>0</td>\n      <td>0</td>\n      <td>0</td>\n      <td>0</td>\n      <td>0</td>\n      <td>0</td>\n      <td>0</td>\n      <td>0</td>\n      <td>0</td>\n      <td>0</td>\n    </tr>\n    <tr>\n      <th>1</th>\n      <td>Pirates of the Caribbean: At World's End</td>\n      <td>0</td>\n      <td>0</td>\n      <td>0</td>\n      <td>0</td>\n      <td>0</td>\n      <td>0</td>\n      <td>0</td>\n      <td>0</td>\n      <td>0</td>\n      <td>...</td>\n      <td>0</td>\n      <td>0</td>\n      <td>0</td>\n      <td>0</td>\n      <td>0</td>\n      <td>0</td>\n      <td>0</td>\n      <td>0</td>\n      <td>0</td>\n      <td>0</td>\n    </tr>\n    <tr>\n      <th>2</th>\n      <td>Spectre</td>\n      <td>0</td>\n      <td>0</td>\n      <td>0</td>\n      <td>0</td>\n      <td>0</td>\n      <td>0</td>\n      <td>0</td>\n      <td>0</td>\n      <td>0</td>\n      <td>...</td>\n      <td>0</td>\n      <td>0</td>\n      <td>0</td>\n      <td>0</td>\n      <td>0</td>\n      <td>0</td>\n      <td>0</td>\n      <td>0</td>\n      <td>0</td>\n      <td>0</td>\n    </tr>\n    <tr>\n      <th>3</th>\n      <td>The Dark Knight Rises</td>\n      <td>0</td>\n      <td>0</td>\n      <td>0</td>\n      <td>0</td>\n      <td>0</td>\n      <td>0</td>\n      <td>0</td>\n      <td>0</td>\n      <td>0</td>\n      <td>...</td>\n      <td>0</td>\n      <td>0</td>\n      <td>0</td>\n      <td>0</td>\n      <td>0</td>\n      <td>0</td>\n      <td>0</td>\n      <td>0</td>\n      <td>0</td>\n      <td>0</td>\n    </tr>\n    <tr>\n      <th>4</th>\n      <td>John Carter</td>\n      <td>0</td>\n      <td>0</td>\n      <td>0</td>\n      <td>0</td>\n      <td>0</td>\n      <td>0</td>\n      <td>0</td>\n      <td>0</td>\n      <td>0</td>\n      <td>...</td>\n      <td>0</td>\n      <td>0</td>\n      <td>0</td>\n      <td>0</td>\n      <td>0</td>\n      <td>0</td>\n      <td>0</td>\n      <td>0</td>\n      <td>0</td>\n      <td>0</td>\n    </tr>\n    <tr>\n      <th>...</th>\n      <td>...</td>\n      <td>...</td>\n      <td>...</td>\n      <td>...</td>\n      <td>...</td>\n      <td>...</td>\n      <td>...</td>\n      <td>...</td>\n      <td>...</td>\n      <td>...</td>\n      <td>...</td>\n      <td>...</td>\n      <td>...</td>\n      <td>...</td>\n      <td>...</td>\n      <td>...</td>\n      <td>...</td>\n      <td>...</td>\n      <td>...</td>\n      <td>...</td>\n      <td>...</td>\n    </tr>\n    <tr>\n      <th>4798</th>\n      <td>El Mariachi</td>\n      <td>0</td>\n      <td>0</td>\n      <td>0</td>\n      <td>0</td>\n      <td>0</td>\n      <td>0</td>\n      <td>0</td>\n      <td>0</td>\n      <td>0</td>\n      <td>...</td>\n      <td>0</td>\n      <td>0</td>\n      <td>0</td>\n      <td>0</td>\n      <td>0</td>\n      <td>0</td>\n      <td>0</td>\n      <td>0</td>\n      <td>0</td>\n      <td>0</td>\n    </tr>\n    <tr>\n      <th>4799</th>\n      <td>Newlyweds</td>\n      <td>0</td>\n      <td>0</td>\n      <td>0</td>\n      <td>0</td>\n      <td>0</td>\n      <td>0</td>\n      <td>0</td>\n      <td>0</td>\n      <td>0</td>\n      <td>...</td>\n      <td>0</td>\n      <td>0</td>\n      <td>0</td>\n      <td>0</td>\n      <td>0</td>\n      <td>0</td>\n      <td>0</td>\n      <td>0</td>\n      <td>0</td>\n      <td>0</td>\n    </tr>\n    <tr>\n      <th>4800</th>\n      <td>Signed, Sealed, Delivered</td>\n      <td>0</td>\n      <td>0</td>\n      <td>0</td>\n      <td>0</td>\n      <td>0</td>\n      <td>0</td>\n      <td>0</td>\n      <td>0</td>\n      <td>0</td>\n      <td>...</td>\n      <td>0</td>\n      <td>0</td>\n      <td>0</td>\n      <td>0</td>\n      <td>0</td>\n      <td>0</td>\n      <td>0</td>\n      <td>0</td>\n      <td>0</td>\n      <td>0</td>\n    </tr>\n    <tr>\n      <th>4801</th>\n      <td>Shanghai Calling</td>\n      <td>0</td>\n      <td>0</td>\n      <td>0</td>\n      <td>0</td>\n      <td>0</td>\n      <td>0</td>\n      <td>0</td>\n      <td>0</td>\n      <td>0</td>\n      <td>...</td>\n      <td>0</td>\n      <td>0</td>\n      <td>0</td>\n      <td>0</td>\n      <td>0</td>\n      <td>0</td>\n      <td>0</td>\n      <td>0</td>\n      <td>0</td>\n      <td>0</td>\n    </tr>\n    <tr>\n      <th>4802</th>\n      <td>My Date with Drew</td>\n      <td>0</td>\n      <td>0</td>\n      <td>0</td>\n      <td>0</td>\n      <td>0</td>\n      <td>0</td>\n      <td>0</td>\n      <td>0</td>\n      <td>0</td>\n      <td>...</td>\n      <td>0</td>\n      <td>0</td>\n      <td>0</td>\n      <td>0</td>\n      <td>0</td>\n      <td>0</td>\n      <td>0</td>\n      <td>0</td>\n      <td>0</td>\n      <td>0</td>\n    </tr>\n  </tbody>\n</table>\n<p>4803 rows × 51570 columns</p>\n</div>"
     },
     "metadata": {},
     "execution_count": 6
    }
   ],
   "source": [
    "cast_vectorizer, cast_vector = vectorize('cast_vector')\n",
    "visualize_vector(cast_vectorizer, cast_vector)"
   ]
  },
  {
   "cell_type": "code",
   "execution_count": 7,
   "metadata": {},
   "outputs": [],
   "source": [
    "from sklearn.metrics.pairwise import cosine_similarity\n",
    "genres_similarity = cosine_similarity(genres_vector, genres_vector)\n",
    "keywords_similarity = cosine_similarity(keywords_vector, keywords_vector)\n",
    "cast_similarity = cosine_similarity(cast_vector, cast_vector)"
   ]
  },
  {
   "cell_type": "code",
   "execution_count": 8,
   "metadata": {},
   "outputs": [],
   "source": [
    "similarity = genres_similarity + keywords_similarity + cast_similarity"
   ]
  },
  {
   "cell_type": "code",
   "execution_count": 9,
   "metadata": {},
   "outputs": [
    {
     "output_type": "execute_result",
     "data": {
      "text/plain": [
       "    userId  movieId  rating  timestamp\n",
       "26       2       62     3.0  835355749\n",
       "30       2      153     4.0  835355441\n",
       "31       2      161     3.0  835355493\n",
       "32       2      165     3.0  835355441\n",
       "33       2      168     3.0  835355710\n",
       "35       2      186     3.0  835355664\n",
       "38       2      223     1.0  835355749\n",
       "40       2      235     3.0  835355664\n",
       "41       2      248     3.0  835355896\n",
       "42       2      253     4.0  835355511\n",
       "43       2      261     4.0  835355681\n",
       "46       2      272     3.0  835355767\n",
       "48       2      292     3.0  835355492\n",
       "49       2      296     4.0  835355395\n",
       "51       2      314     4.0  835356044\n",
       "53       2      319     1.0  835355918\n",
       "56       2      350     4.0  835355697\n",
       "59       2      364     3.0  835355604\n",
       "64       2      377     3.0  835355710\n",
       "68       2      454     4.0  835355604\n",
       "70       2      468     4.0  835355790\n",
       "72       2      480     4.0  835355643\n",
       "74       2      497     3.0  835355880\n",
       "75       2      500     4.0  835355731\n",
       "76       2      508     4.0  835355860\n",
       "77       2      509     4.0  835355719\n",
       "81       2      539     3.0  835355767\n",
       "82       2      550     3.0  835356109\n",
       "85       2      585     5.0  835355817\n",
       "86       2      586     3.0  835355790\n",
       "87       2      587     3.0  835355779\n",
       "88       2      588     3.0  835355441\n",
       "90       2      590     5.0  835355395\n",
       "91       2      592     5.0  835355395\n",
       "92       2      593     3.0  835355511\n",
       "93       2      616     3.0  835355932"
      ],
      "text/html": "<div>\n<style scoped>\n    .dataframe tbody tr th:only-of-type {\n        vertical-align: middle;\n    }\n\n    .dataframe tbody tr th {\n        vertical-align: top;\n    }\n\n    .dataframe thead th {\n        text-align: right;\n    }\n</style>\n<table border=\"1\" class=\"dataframe\">\n  <thead>\n    <tr style=\"text-align: right;\">\n      <th></th>\n      <th>userId</th>\n      <th>movieId</th>\n      <th>rating</th>\n      <th>timestamp</th>\n    </tr>\n  </thead>\n  <tbody>\n    <tr>\n      <th>26</th>\n      <td>2</td>\n      <td>62</td>\n      <td>3.0</td>\n      <td>835355749</td>\n    </tr>\n    <tr>\n      <th>30</th>\n      <td>2</td>\n      <td>153</td>\n      <td>4.0</td>\n      <td>835355441</td>\n    </tr>\n    <tr>\n      <th>31</th>\n      <td>2</td>\n      <td>161</td>\n      <td>3.0</td>\n      <td>835355493</td>\n    </tr>\n    <tr>\n      <th>32</th>\n      <td>2</td>\n      <td>165</td>\n      <td>3.0</td>\n      <td>835355441</td>\n    </tr>\n    <tr>\n      <th>33</th>\n      <td>2</td>\n      <td>168</td>\n      <td>3.0</td>\n      <td>835355710</td>\n    </tr>\n    <tr>\n      <th>35</th>\n      <td>2</td>\n      <td>186</td>\n      <td>3.0</td>\n      <td>835355664</td>\n    </tr>\n    <tr>\n      <th>38</th>\n      <td>2</td>\n      <td>223</td>\n      <td>1.0</td>\n      <td>835355749</td>\n    </tr>\n    <tr>\n      <th>40</th>\n      <td>2</td>\n      <td>235</td>\n      <td>3.0</td>\n      <td>835355664</td>\n    </tr>\n    <tr>\n      <th>41</th>\n      <td>2</td>\n      <td>248</td>\n      <td>3.0</td>\n      <td>835355896</td>\n    </tr>\n    <tr>\n      <th>42</th>\n      <td>2</td>\n      <td>253</td>\n      <td>4.0</td>\n      <td>835355511</td>\n    </tr>\n    <tr>\n      <th>43</th>\n      <td>2</td>\n      <td>261</td>\n      <td>4.0</td>\n      <td>835355681</td>\n    </tr>\n    <tr>\n      <th>46</th>\n      <td>2</td>\n      <td>272</td>\n      <td>3.0</td>\n      <td>835355767</td>\n    </tr>\n    <tr>\n      <th>48</th>\n      <td>2</td>\n      <td>292</td>\n      <td>3.0</td>\n      <td>835355492</td>\n    </tr>\n    <tr>\n      <th>49</th>\n      <td>2</td>\n      <td>296</td>\n      <td>4.0</td>\n      <td>835355395</td>\n    </tr>\n    <tr>\n      <th>51</th>\n      <td>2</td>\n      <td>314</td>\n      <td>4.0</td>\n      <td>835356044</td>\n    </tr>\n    <tr>\n      <th>53</th>\n      <td>2</td>\n      <td>319</td>\n      <td>1.0</td>\n      <td>835355918</td>\n    </tr>\n    <tr>\n      <th>56</th>\n      <td>2</td>\n      <td>350</td>\n      <td>4.0</td>\n      <td>835355697</td>\n    </tr>\n    <tr>\n      <th>59</th>\n      <td>2</td>\n      <td>364</td>\n      <td>3.0</td>\n      <td>835355604</td>\n    </tr>\n    <tr>\n      <th>64</th>\n      <td>2</td>\n      <td>377</td>\n      <td>3.0</td>\n      <td>835355710</td>\n    </tr>\n    <tr>\n      <th>68</th>\n      <td>2</td>\n      <td>454</td>\n      <td>4.0</td>\n      <td>835355604</td>\n    </tr>\n    <tr>\n      <th>70</th>\n      <td>2</td>\n      <td>468</td>\n      <td>4.0</td>\n      <td>835355790</td>\n    </tr>\n    <tr>\n      <th>72</th>\n      <td>2</td>\n      <td>480</td>\n      <td>4.0</td>\n      <td>835355643</td>\n    </tr>\n    <tr>\n      <th>74</th>\n      <td>2</td>\n      <td>497</td>\n      <td>3.0</td>\n      <td>835355880</td>\n    </tr>\n    <tr>\n      <th>75</th>\n      <td>2</td>\n      <td>500</td>\n      <td>4.0</td>\n      <td>835355731</td>\n    </tr>\n    <tr>\n      <th>76</th>\n      <td>2</td>\n      <td>508</td>\n      <td>4.0</td>\n      <td>835355860</td>\n    </tr>\n    <tr>\n      <th>77</th>\n      <td>2</td>\n      <td>509</td>\n      <td>4.0</td>\n      <td>835355719</td>\n    </tr>\n    <tr>\n      <th>81</th>\n      <td>2</td>\n      <td>539</td>\n      <td>3.0</td>\n      <td>835355767</td>\n    </tr>\n    <tr>\n      <th>82</th>\n      <td>2</td>\n      <td>550</td>\n      <td>3.0</td>\n      <td>835356109</td>\n    </tr>\n    <tr>\n      <th>85</th>\n      <td>2</td>\n      <td>585</td>\n      <td>5.0</td>\n      <td>835355817</td>\n    </tr>\n    <tr>\n      <th>86</th>\n      <td>2</td>\n      <td>586</td>\n      <td>3.0</td>\n      <td>835355790</td>\n    </tr>\n    <tr>\n      <th>87</th>\n      <td>2</td>\n      <td>587</td>\n      <td>3.0</td>\n      <td>835355779</td>\n    </tr>\n    <tr>\n      <th>88</th>\n      <td>2</td>\n      <td>588</td>\n      <td>3.0</td>\n      <td>835355441</td>\n    </tr>\n    <tr>\n      <th>90</th>\n      <td>2</td>\n      <td>590</td>\n      <td>5.0</td>\n      <td>835355395</td>\n    </tr>\n    <tr>\n      <th>91</th>\n      <td>2</td>\n      <td>592</td>\n      <td>5.0</td>\n      <td>835355395</td>\n    </tr>\n    <tr>\n      <th>92</th>\n      <td>2</td>\n      <td>593</td>\n      <td>3.0</td>\n      <td>835355511</td>\n    </tr>\n    <tr>\n      <th>93</th>\n      <td>2</td>\n      <td>616</td>\n      <td>3.0</td>\n      <td>835355932</td>\n    </tr>\n  </tbody>\n</table>\n</div>"
     },
     "metadata": {},
     "execution_count": 9
    }
   ],
   "source": [
    "#read ratings\n",
    "df_ratings = pd.read_csv('ratings_small.csv')\n",
    "#select only ratings of existing movies\n",
    "ids = df['id'].tolist()\n",
    "df_ratings = df_ratings[df_ratings['movieId'].isin(ids)]\n",
    "#get user ratings by id\n",
    "user = df_ratings.loc[df_ratings['userId'] == 2]\n",
    "user"
   ]
  },
  {
   "cell_type": "code",
   "execution_count": 10,
   "metadata": {},
   "outputs": [],
   "source": [
    "from sklearn.model_selection import train_test_split\n",
    "\n",
    "X = user[['userId', 'movieId']]\n",
    "y = user['rating']\n",
    "X_train, X_test, y_train, y_test = train_test_split(X, y, test_size=0.4, random_state=0)"
   ]
  },
  {
   "cell_type": "code",
   "execution_count": 11,
   "metadata": {},
   "outputs": [],
   "source": [
    "def knn(similarity, X_train, y_train, X_test, k=15):\n",
    "    predictions = []\n",
    "    for i in range(len(X_test)):\n",
    "        neighbours = []\n",
    "        test_id = X_test.iat[i, 1]\n",
    "        test_index = ids.index(test_id)\n",
    "        for j in range(len(X_train)):\n",
    "            train_id = X_train.iat[j, 1]\n",
    "            train_index = ids.index(train_id)\n",
    "            distance = similarity[test_index][train_index]\n",
    "            neighbours.append((distance, j))\n",
    "        neighbours.sort(key = lambda value: value[0], reverse=True)\n",
    "        neighbours = neighbours[0:k]\n",
    "        rating = 0\n",
    "        sim_sum = 0\n",
    "        for n in range(k):\n",
    "            sim, neighbour_id = neighbours[n]\n",
    "            rating += sim * y_train.iat[neighbour_id]\n",
    "            sim_sum += sim\n",
    "        y_pred = rating / sim_sum\n",
    "        predictions.append(y_pred)\n",
    "    return predictions\n",
    "\n",
    "y_pred_content = knn(similarity, X_train, y_train, X_test)"
   ]
  },
  {
   "cell_type": "code",
   "execution_count": 12,
   "metadata": {},
   "outputs": [],
   "source": [
    "from sklearn import metrics\n",
    "\n",
    "def calc_metrics(y_test, y_pred):\n",
    "    rmse = metrics.mean_squared_error(y_test, y_pred, squared=False)\n",
    "    mse = metrics.mean_squared_error(y_test, y_pred)\n",
    "    mae = metrics.mean_absolute_error(y_test, y_pred)\n",
    "\n",
    "    print('RMSE:', rmse)\n",
    "    print('MSE:', mse)\n",
    "    print('MAE:', mae)"
   ]
  },
  {
   "cell_type": "code",
   "execution_count": 13,
   "metadata": {},
   "outputs": [
    {
     "output_type": "stream",
     "name": "stdout",
     "text": [
      "RMSE: 1.093457368597129\nMSE: 1.1956490169393574\nMAE: 0.826017271536759\n"
     ]
    }
   ],
   "source": [
    "calc_metrics(y_test, y_pred_content)"
   ]
  },
  {
   "cell_type": "code",
   "execution_count": 14,
   "metadata": {},
   "outputs": [
    {
     "output_type": "execute_result",
     "data": {
      "text/plain": [
       "        user  item  rating   timestamp\n",
       "13         1  2105     4.0  1260759139\n",
       "16         1  2294     2.0  1260759108\n",
       "26         2    62     3.0   835355749\n",
       "30         2   153     4.0   835355441\n",
       "31         2   161     3.0   835355493\n",
       "...      ...   ...     ...         ...\n",
       "99983    671  4995     4.0  1064891537\n",
       "99993    671  5902     3.5  1064245507\n",
       "100004     1   111     5.0  1609284358\n",
       "100005     1   111     5.0  1609286487\n",
       "100006     1   111     5.0  1609328577\n",
       "\n",
       "[18574 rows x 4 columns]"
      ],
      "text/html": "<div>\n<style scoped>\n    .dataframe tbody tr th:only-of-type {\n        vertical-align: middle;\n    }\n\n    .dataframe tbody tr th {\n        vertical-align: top;\n    }\n\n    .dataframe thead th {\n        text-align: right;\n    }\n</style>\n<table border=\"1\" class=\"dataframe\">\n  <thead>\n    <tr style=\"text-align: right;\">\n      <th></th>\n      <th>user</th>\n      <th>item</th>\n      <th>rating</th>\n      <th>timestamp</th>\n    </tr>\n  </thead>\n  <tbody>\n    <tr>\n      <th>13</th>\n      <td>1</td>\n      <td>2105</td>\n      <td>4.0</td>\n      <td>1260759139</td>\n    </tr>\n    <tr>\n      <th>16</th>\n      <td>1</td>\n      <td>2294</td>\n      <td>2.0</td>\n      <td>1260759108</td>\n    </tr>\n    <tr>\n      <th>26</th>\n      <td>2</td>\n      <td>62</td>\n      <td>3.0</td>\n      <td>835355749</td>\n    </tr>\n    <tr>\n      <th>30</th>\n      <td>2</td>\n      <td>153</td>\n      <td>4.0</td>\n      <td>835355441</td>\n    </tr>\n    <tr>\n      <th>31</th>\n      <td>2</td>\n      <td>161</td>\n      <td>3.0</td>\n      <td>835355493</td>\n    </tr>\n    <tr>\n      <th>...</th>\n      <td>...</td>\n      <td>...</td>\n      <td>...</td>\n      <td>...</td>\n    </tr>\n    <tr>\n      <th>99983</th>\n      <td>671</td>\n      <td>4995</td>\n      <td>4.0</td>\n      <td>1064891537</td>\n    </tr>\n    <tr>\n      <th>99993</th>\n      <td>671</td>\n      <td>5902</td>\n      <td>3.5</td>\n      <td>1064245507</td>\n    </tr>\n    <tr>\n      <th>100004</th>\n      <td>1</td>\n      <td>111</td>\n      <td>5.0</td>\n      <td>1609284358</td>\n    </tr>\n    <tr>\n      <th>100005</th>\n      <td>1</td>\n      <td>111</td>\n      <td>5.0</td>\n      <td>1609286487</td>\n    </tr>\n    <tr>\n      <th>100006</th>\n      <td>1</td>\n      <td>111</td>\n      <td>5.0</td>\n      <td>1609328577</td>\n    </tr>\n  </tbody>\n</table>\n<p>18574 rows × 4 columns</p>\n</div>"
     },
     "metadata": {},
     "execution_count": 14
    }
   ],
   "source": [
    "df = df_ratings.rename(columns={'userId': 'user', 'movieId': 'item'})\n",
    "df"
   ]
  },
  {
   "cell_type": "code",
   "execution_count": 15,
   "metadata": {},
   "outputs": [
    {
     "output_type": "execute_result",
     "data": {
      "text/plain": [
       "<surprise.dataset.DatasetAutoFolds at 0x7f70083a0190>"
      ]
     },
     "metadata": {},
     "execution_count": 15
    }
   ],
   "source": [
    "from surprise import Dataset\n",
    "from surprise import Reader\n",
    "reader = Reader(rating_scale=(1, 5))\n",
    "data = Dataset.load_from_df(df[[\"user\", \"item\", \"rating\"]], reader)\n",
    "data"
   ]
  },
  {
   "cell_type": "code",
   "execution_count": 16,
   "metadata": {},
   "outputs": [],
   "source": [
    "from surprise import KNNBasic\n",
    "sim_options = {\n",
    "    \"name\": \"pearson\",\n",
    "    \"user_based\": False\n",
    "}\n",
    "algo = KNNBasic(sim_options=sim_options)"
   ]
  },
  {
   "cell_type": "code",
   "execution_count": 17,
   "metadata": {},
   "outputs": [
    {
     "output_type": "stream",
     "name": "stdout",
     "text": [
      "Computing the pearson similarity matrix...\n",
      "Done computing similarity matrix.\n"
     ]
    },
    {
     "output_type": "execute_result",
     "data": {
      "text/plain": [
       "<surprise.prediction_algorithms.knns.KNNBasic at 0x7f700812d490>"
      ]
     },
     "metadata": {},
     "execution_count": 17
    }
   ],
   "source": [
    "algo.fit(data.build_full_trainset())"
   ]
  },
  {
   "cell_type": "code",
   "execution_count": 18,
   "metadata": {},
   "outputs": [],
   "source": [
    "id_pairs = zip(X_test['userId'], X_test['movieId'])\n",
    "y_pred_collaborative = [algo.predict(uid = userId, iid = movieId)[3] for (userId, movieId) in id_pairs]"
   ]
  },
  {
   "cell_type": "code",
   "execution_count": 20,
   "metadata": {},
   "outputs": [
    {
     "output_type": "stream",
     "name": "stdout",
     "text": [
      "RMSE: 0.7371309061291823\nMSE: 0.5433619727708294\nMAE: 0.5852474097225288\n"
     ]
    }
   ],
   "source": [
    "calc_metrics(y_test, y_pred_collaborative)"
   ]
  },
  {
   "cell_type": "code",
   "execution_count": 23,
   "metadata": {},
   "outputs": [
    {
     "output_type": "execute_result",
     "data": {
      "text/plain": [
       "    content_based  collaborative  actual\n",
       "88       2.646901       3.368536     3.0\n",
       "70       3.458766       3.581842     4.0\n",
       "56       3.469570       3.451011     4.0\n",
       "87       3.252984       3.417277     3.0\n",
       "74       3.290616       3.327197     3.0\n",
       "53       3.682470       2.490570     1.0\n",
       "43       3.444521       3.660838     4.0\n",
       "31       3.593391       3.247801     3.0\n",
       "46       3.439054       2.901395     3.0\n",
       "86       3.362098       3.399800     3.0\n",
       "82       3.300380       3.275666     3.0\n",
       "93       3.405386       3.137308     3.0\n",
       "91       3.164144       3.789339     5.0\n",
       "85       3.439882       3.807046     5.0\n",
       "90       3.312337       3.693975     5.0"
      ],
      "text/html": "<div>\n<style scoped>\n    .dataframe tbody tr th:only-of-type {\n        vertical-align: middle;\n    }\n\n    .dataframe tbody tr th {\n        vertical-align: top;\n    }\n\n    .dataframe thead th {\n        text-align: right;\n    }\n</style>\n<table border=\"1\" class=\"dataframe\">\n  <thead>\n    <tr style=\"text-align: right;\">\n      <th></th>\n      <th>content_based</th>\n      <th>collaborative</th>\n      <th>actual</th>\n    </tr>\n  </thead>\n  <tbody>\n    <tr>\n      <th>88</th>\n      <td>2.646901</td>\n      <td>3.368536</td>\n      <td>3.0</td>\n    </tr>\n    <tr>\n      <th>70</th>\n      <td>3.458766</td>\n      <td>3.581842</td>\n      <td>4.0</td>\n    </tr>\n    <tr>\n      <th>56</th>\n      <td>3.469570</td>\n      <td>3.451011</td>\n      <td>4.0</td>\n    </tr>\n    <tr>\n      <th>87</th>\n      <td>3.252984</td>\n      <td>3.417277</td>\n      <td>3.0</td>\n    </tr>\n    <tr>\n      <th>74</th>\n      <td>3.290616</td>\n      <td>3.327197</td>\n      <td>3.0</td>\n    </tr>\n    <tr>\n      <th>53</th>\n      <td>3.682470</td>\n      <td>2.490570</td>\n      <td>1.0</td>\n    </tr>\n    <tr>\n      <th>43</th>\n      <td>3.444521</td>\n      <td>3.660838</td>\n      <td>4.0</td>\n    </tr>\n    <tr>\n      <th>31</th>\n      <td>3.593391</td>\n      <td>3.247801</td>\n      <td>3.0</td>\n    </tr>\n    <tr>\n      <th>46</th>\n      <td>3.439054</td>\n      <td>2.901395</td>\n      <td>3.0</td>\n    </tr>\n    <tr>\n      <th>86</th>\n      <td>3.362098</td>\n      <td>3.399800</td>\n      <td>3.0</td>\n    </tr>\n    <tr>\n      <th>82</th>\n      <td>3.300380</td>\n      <td>3.275666</td>\n      <td>3.0</td>\n    </tr>\n    <tr>\n      <th>93</th>\n      <td>3.405386</td>\n      <td>3.137308</td>\n      <td>3.0</td>\n    </tr>\n    <tr>\n      <th>91</th>\n      <td>3.164144</td>\n      <td>3.789339</td>\n      <td>5.0</td>\n    </tr>\n    <tr>\n      <th>85</th>\n      <td>3.439882</td>\n      <td>3.807046</td>\n      <td>5.0</td>\n    </tr>\n    <tr>\n      <th>90</th>\n      <td>3.312337</td>\n      <td>3.693975</td>\n      <td>5.0</td>\n    </tr>\n  </tbody>\n</table>\n</div>"
     },
     "metadata": {},
     "execution_count": 23
    }
   ],
   "source": [
    "results = pd.DataFrame(data={'content_based': y_pred_content, 'collaborative': y_pred_collaborative, 'actual': y_test})\n",
    "results"
   ]
  },
  {
   "cell_type": "code",
   "execution_count": 24,
   "metadata": {},
   "outputs": [],
   "source": [
    "from sklearn import linear_model\n",
    "\n",
    "X = results[['content_based', 'collaborative']]\n",
    "y = results['actual']\n",
    "\n",
    "X_train, X_test, y_train, y_test = train_test_split(X, y, test_size=0.4, random_state=0)\n",
    "\n",
    "regression = linear_model.LinearRegression()\n",
    "regression.fit(X_train, y_train)\n",
    "\n",
    "y_pred = regression.predict(X_test)"
   ]
  },
  {
   "cell_type": "code",
   "execution_count": 25,
   "metadata": {},
   "outputs": [
    {
     "output_type": "stream",
     "name": "stdout",
     "text": [
      "RMSE: 0.5669811612430354\nMSE: 0.3214676372045009\nMAE: 0.5131394675453876\n"
     ]
    }
   ],
   "source": [
    "calc_metrics(y_test, y_pred)"
   ]
  },
  {
   "cell_type": "code",
   "execution_count": null,
   "metadata": {},
   "outputs": [],
   "source": []
  }
 ]
}