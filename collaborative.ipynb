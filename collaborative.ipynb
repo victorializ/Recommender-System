{
 "metadata": {
  "language_info": {
   "codemirror_mode": {
    "name": "ipython",
    "version": 3
   },
   "file_extension": ".py",
   "mimetype": "text/x-python",
   "name": "python",
   "nbconvert_exporter": "python",
   "pygments_lexer": "ipython3",
   "version": "3.8.3-final"
  },
  "orig_nbformat": 2,
  "kernelspec": {
   "name": "python3",
   "display_name": "Python 3",
   "language": "python"
  }
 },
 "nbformat": 4,
 "nbformat_minor": 2,
 "cells": [
  {
   "cell_type": "code",
   "execution_count": 1,
   "metadata": {},
   "outputs": [
    {
     "output_type": "execute_result",
     "data": {
      "text/plain": [
       "        user  item  rating   timestamp\n",
       "13         1  2105     4.0  1260759139\n",
       "16         1  2294     2.0  1260759108\n",
       "26         2    62     3.0   835355749\n",
       "30         2   153     4.0   835355441\n",
       "31         2   161     3.0   835355493\n",
       "...      ...   ...     ...         ...\n",
       "99983    671  4995     4.0  1064891537\n",
       "99993    671  5902     3.5  1064245507\n",
       "100004     1   111     5.0  1609284358\n",
       "100005     1   111     5.0  1609286487\n",
       "100006     1   111     5.0  1609328577\n",
       "\n",
       "[18574 rows x 4 columns]"
      ],
      "text/html": "<div>\n<style scoped>\n    .dataframe tbody tr th:only-of-type {\n        vertical-align: middle;\n    }\n\n    .dataframe tbody tr th {\n        vertical-align: top;\n    }\n\n    .dataframe thead th {\n        text-align: right;\n    }\n</style>\n<table border=\"1\" class=\"dataframe\">\n  <thead>\n    <tr style=\"text-align: right;\">\n      <th></th>\n      <th>user</th>\n      <th>item</th>\n      <th>rating</th>\n      <th>timestamp</th>\n    </tr>\n  </thead>\n  <tbody>\n    <tr>\n      <th>13</th>\n      <td>1</td>\n      <td>2105</td>\n      <td>4.0</td>\n      <td>1260759139</td>\n    </tr>\n    <tr>\n      <th>16</th>\n      <td>1</td>\n      <td>2294</td>\n      <td>2.0</td>\n      <td>1260759108</td>\n    </tr>\n    <tr>\n      <th>26</th>\n      <td>2</td>\n      <td>62</td>\n      <td>3.0</td>\n      <td>835355749</td>\n    </tr>\n    <tr>\n      <th>30</th>\n      <td>2</td>\n      <td>153</td>\n      <td>4.0</td>\n      <td>835355441</td>\n    </tr>\n    <tr>\n      <th>31</th>\n      <td>2</td>\n      <td>161</td>\n      <td>3.0</td>\n      <td>835355493</td>\n    </tr>\n    <tr>\n      <th>...</th>\n      <td>...</td>\n      <td>...</td>\n      <td>...</td>\n      <td>...</td>\n    </tr>\n    <tr>\n      <th>99983</th>\n      <td>671</td>\n      <td>4995</td>\n      <td>4.0</td>\n      <td>1064891537</td>\n    </tr>\n    <tr>\n      <th>99993</th>\n      <td>671</td>\n      <td>5902</td>\n      <td>3.5</td>\n      <td>1064245507</td>\n    </tr>\n    <tr>\n      <th>100004</th>\n      <td>1</td>\n      <td>111</td>\n      <td>5.0</td>\n      <td>1609284358</td>\n    </tr>\n    <tr>\n      <th>100005</th>\n      <td>1</td>\n      <td>111</td>\n      <td>5.0</td>\n      <td>1609286487</td>\n    </tr>\n    <tr>\n      <th>100006</th>\n      <td>1</td>\n      <td>111</td>\n      <td>5.0</td>\n      <td>1609328577</td>\n    </tr>\n  </tbody>\n</table>\n<p>18574 rows × 4 columns</p>\n</div>"
     },
     "metadata": {},
     "execution_count": 1
    }
   ],
   "source": [
    "import pandas\n",
    "df = pandas.read_csv('ratings_small.csv')\n",
    "df_movies = pandas.read_csv('tmdb_5000_movies.csv')\n",
    "ids = df_movies['id'].tolist()\n",
    "df = df[df['movieId'].isin(ids)]\n",
    "df = df.rename(columns={'userId': 'user', 'movieId': 'item'})\n",
    "df"
   ]
  },
  {
   "cell_type": "code",
   "execution_count": 2,
   "metadata": {},
   "outputs": [],
   "source": [
    "from surprise import Dataset\n",
    "from surprise import Reader\n",
    "reader = Reader(rating_scale=(1, 5))"
   ]
  },
  {
   "cell_type": "code",
   "execution_count": 3,
   "metadata": {},
   "outputs": [
    {
     "output_type": "execute_result",
     "data": {
      "text/plain": [
       "<surprise.dataset.DatasetAutoFolds at 0x7fa17e13c5b0>"
      ]
     },
     "metadata": {},
     "execution_count": 3
    }
   ],
   "source": [
    "data = Dataset.load_from_df(df[[\"user\", \"item\", \"rating\"]], reader)\n",
    "data"
   ]
  },
  {
   "cell_type": "code",
   "execution_count": 4,
   "metadata": {},
   "outputs": [],
   "source": [
    "from surprise import KNNWithMeans\n",
    "sim_options = {\n",
    "    \"name\": \"pearson\",\n",
    "    \"user_based\": False\n",
    "}\n",
    "algo = KNNWithMeans(sim_options=sim_options)"
   ]
  },
  {
   "cell_type": "code",
   "execution_count": 5,
   "metadata": {},
   "outputs": [],
   "source": [
    "trainset = data.build_full_trainset()\n",
    "trainset_iids = list(trainset.all_items())\n",
    "iid_converter = lambda x: trainset.to_raw_iid(x)\n",
    "trainset_raw_iids = list(map(iid_converter, trainset_iids))"
   ]
  },
  {
   "cell_type": "code",
   "execution_count": 6,
   "metadata": {},
   "outputs": [
    {
     "output_type": "stream",
     "name": "stdout",
     "text": [
      "Computing the pearson similarity matrix...\nDone computing similarity matrix.\n"
     ]
    },
    {
     "output_type": "execute_result",
     "data": {
      "text/plain": [
       "<surprise.prediction_algorithms.knns.KNNWithMeans at 0x7fa17e13ca30>"
      ]
     },
     "metadata": {},
     "execution_count": 6
    }
   ],
   "source": [
    "algo.fit(trainset)"
   ]
  },
  {
   "cell_type": "code",
   "execution_count": 7,
   "metadata": {},
   "outputs": [],
   "source": [
    "def get_neighbors(itemId, N=5):\n",
    "    if itemId not in trainset_raw_iids:\n",
    "        return []\n",
    "    iid = trainset_raw_iids.index(itemId)\n",
    "    neighbors_iids = algo.get_neighbors(iid, N)\n",
    "    ids = list(map(lambda value: trainset_raw_iids[value], neighbors_iids))\n",
    "    return ids\n",
    "\n",
    "#neighbors = get_neighbors(182)\n",
    "df_movies['neighborhood'] = df_movies['id'].copy().apply(get_neighbors)"
   ]
  },
  {
   "cell_type": "code",
   "execution_count": 14,
   "metadata": {},
   "outputs": [
    {
     "output_type": "stream",
     "name": "stdout",
     "text": [
      "Computing the pearson similarity matrix...\n",
      "Done computing similarity matrix.\n",
      "Computing the pearson similarity matrix...\n",
      "Done computing similarity matrix.\n",
      "Computing the pearson similarity matrix...\n",
      "Done computing similarity matrix.\n",
      "Computing the pearson similarity matrix...\n",
      "Done computing similarity matrix.\n",
      "Computing the pearson similarity matrix...\n",
      "Done computing similarity matrix.\n",
      "\n",
      "Root Mean Squared Error 0.9344590273176113\n",
      "Mean Squared Error 0.8732582050011887\n",
      "Mean Absolute Error 0.7122368503414603\n"
     ]
    }
   ],
   "source": [
    "from surprise.model_selection import train_test_split, cross_validate\n",
    "results = cross_validate(\n",
    "    algo = algo, data = data, measures=['MAE', 'RMSE', 'MSE'], \n",
    "    cv=5, return_train_measures=True, verbose=False\n",
    ")\n",
    "\n",
    "print() \n",
    "print('Root Mean Squared Error', results['test_rmse'].mean())\n",
    "print('Mean Squared Error', results['test_mse'].mean())\n",
    "print('Mean Absolute Error', results['test_mae'].mean())"
   ]
  },
  {
   "cell_type": "code",
   "execution_count": null,
   "metadata": {},
   "outputs": [],
   "source": []
  }
 ]
}