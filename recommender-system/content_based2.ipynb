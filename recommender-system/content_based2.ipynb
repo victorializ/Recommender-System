{
 "metadata": {
  "language_info": {
   "codemirror_mode": {
    "name": "ipython",
    "version": 3
   },
   "file_extension": ".py",
   "mimetype": "text/x-python",
   "name": "python",
   "nbconvert_exporter": "python",
   "pygments_lexer": "ipython3",
   "version": "3.8.3-final"
  },
  "orig_nbformat": 2,
  "kernelspec": {
   "name": "python3",
   "display_name": "Python 3",
   "language": "python"
  }
 },
 "nbformat": 4,
 "nbformat_minor": 2,
 "cells": [
  {
   "cell_type": "code",
   "execution_count": 1,
   "metadata": {},
   "outputs": [
    {
     "output_type": "execute_result",
     "data": {
      "text/plain": [
       "                                  keywords                           genres  \\\n",
       "0             cultureclash future spacewar         action adventure fantasy   \n",
       "1             ocean drugabuse exoticisland         adventure fantasy action   \n",
       "2             spy basedonnovel secretagent           action adventure crime   \n",
       "3          dccomics crimefighter terrorist               action crime drama   \n",
       "4              basedonnovel mars medallion  action adventure sciencefiction   \n",
       "...                                    ...                              ...   \n",
       "4798  unitedstates–mexicobarrier legs arms            action crime thriller   \n",
       "4799                                                         comedy romance   \n",
       "4800       date loveatfirstsight narration             comedy drama romance   \n",
       "4801                                                                          \n",
       "4802             obsession camcorder crush                      documentary   \n",
       "\n",
       "                                            cast  \n",
       "0      samworthington zoesaldana sigourneyweaver  \n",
       "1         johnnydepp orlandobloom keiraknightley  \n",
       "2          danielcraig christophwaltz léaseydoux  \n",
       "3          christianbale michaelcaine garyoldman  \n",
       "4        taylorkitsch lynncollins samanthamorton  \n",
       "...                                          ...  \n",
       "4798  carlosgallardo jaimedehoyos petermarquardt  \n",
       "4799       edwardburns kerrybishé marshadietlein  \n",
       "4800         ericmabius kristinbooth crystallowe  \n",
       "4801          danielhenney elizacoupe billpaxton  \n",
       "4802  drewbarrymore brianherzlinger coreyfeldman  \n",
       "\n",
       "[4803 rows x 3 columns]"
      ],
      "text/html": "<div>\n<style scoped>\n    .dataframe tbody tr th:only-of-type {\n        vertical-align: middle;\n    }\n\n    .dataframe tbody tr th {\n        vertical-align: top;\n    }\n\n    .dataframe thead th {\n        text-align: right;\n    }\n</style>\n<table border=\"1\" class=\"dataframe\">\n  <thead>\n    <tr style=\"text-align: right;\">\n      <th></th>\n      <th>keywords</th>\n      <th>genres</th>\n      <th>cast</th>\n    </tr>\n  </thead>\n  <tbody>\n    <tr>\n      <th>0</th>\n      <td>cultureclash future spacewar</td>\n      <td>action adventure fantasy</td>\n      <td>samworthington zoesaldana sigourneyweaver</td>\n    </tr>\n    <tr>\n      <th>1</th>\n      <td>ocean drugabuse exoticisland</td>\n      <td>adventure fantasy action</td>\n      <td>johnnydepp orlandobloom keiraknightley</td>\n    </tr>\n    <tr>\n      <th>2</th>\n      <td>spy basedonnovel secretagent</td>\n      <td>action adventure crime</td>\n      <td>danielcraig christophwaltz léaseydoux</td>\n    </tr>\n    <tr>\n      <th>3</th>\n      <td>dccomics crimefighter terrorist</td>\n      <td>action crime drama</td>\n      <td>christianbale michaelcaine garyoldman</td>\n    </tr>\n    <tr>\n      <th>4</th>\n      <td>basedonnovel mars medallion</td>\n      <td>action adventure sciencefiction</td>\n      <td>taylorkitsch lynncollins samanthamorton</td>\n    </tr>\n    <tr>\n      <th>...</th>\n      <td>...</td>\n      <td>...</td>\n      <td>...</td>\n    </tr>\n    <tr>\n      <th>4798</th>\n      <td>unitedstates–mexicobarrier legs arms</td>\n      <td>action crime thriller</td>\n      <td>carlosgallardo jaimedehoyos petermarquardt</td>\n    </tr>\n    <tr>\n      <th>4799</th>\n      <td></td>\n      <td>comedy romance</td>\n      <td>edwardburns kerrybishé marshadietlein</td>\n    </tr>\n    <tr>\n      <th>4800</th>\n      <td>date loveatfirstsight narration</td>\n      <td>comedy drama romance</td>\n      <td>ericmabius kristinbooth crystallowe</td>\n    </tr>\n    <tr>\n      <th>4801</th>\n      <td></td>\n      <td></td>\n      <td>danielhenney elizacoupe billpaxton</td>\n    </tr>\n    <tr>\n      <th>4802</th>\n      <td>obsession camcorder crush</td>\n      <td>documentary</td>\n      <td>drewbarrymore brianherzlinger coreyfeldman</td>\n    </tr>\n  </tbody>\n</table>\n<p>4803 rows × 3 columns</p>\n</div>"
     },
     "metadata": {},
     "execution_count": 1
    }
   ],
   "source": [
    "#read data\n",
    "import pandas as pd\n",
    "df_credits = pd.read_csv('tmdb_5000_credits.csv')\n",
    "df_movies = pd.read_csv('tmdb_5000_movies.csv')\n",
    "df_ratings = pd.read_csv('ratings_small.csv')\n",
    "\n",
    "#preprocess text\n",
    "df_credits.pop('title')\n",
    "df_credits.columns = ['id', 'cast', 'crew']\n",
    "df = df_credits.merge(df_movies, on='id')\n",
    "#select only ratings of existing movies\n",
    "ids = df['id'].tolist()\n",
    "df_ratings = df_ratings[df_ratings['movieId'].isin(ids)]\n",
    "\n",
    "#extract first N values of each feature\n",
    "from ast import literal_eval\n",
    "features = ['keywords', 'genres', 'cast']\n",
    "df_copy = pd.DataFrame()\n",
    "\n",
    "def head(arr, N = 3):\n",
    "    if len(arr) > N:\n",
    "        arr = arr[:N]\n",
    "    return arr\n",
    "\n",
    "def clean_value(value):\n",
    "    return str.lower(value.replace(\" \", \"\"))\n",
    "\n",
    "def to_string_of_values(arr):\n",
    "    values = [clean_value(obj['name']) for obj in head(literal_eval(arr))]\n",
    "    return ' '.join(values)\n",
    "\n",
    "for feature in features:\n",
    "    df_copy[feature] = df[feature].copy().apply(to_string_of_values)\n",
    "\n",
    "df_copy[features]"
   ]
  },
  {
   "cell_type": "code",
   "execution_count": 2,
   "metadata": {},
   "outputs": [
    {
     "output_type": "execute_result",
     "data": {
      "text/plain": [
       "0        cultureclash future spacewaraction adventure ...\n",
       "1        ocean drugabuse exoticislandadventure fantasy...\n",
       "2        spy basedonnovel secretagentaction adventure ...\n",
       "3        dccomics crimefighter terroristaction crime d...\n",
       "4        basedonnovel mars medallionaction adventure s...\n",
       "                              ...                        \n",
       "4798     unitedstates–mexicobarrier legs armsaction cr...\n",
       "4799     comedy romanceedwardburns kerrybishé marshadi...\n",
       "4800     date loveatfirstsight narrationcomedy drama r...\n",
       "4801                   danielhenney elizacoupe billpaxton\n",
       "4802     obsession camcorder crushdocumentarydrewbarry...\n",
       "Name: profile, Length: 4803, dtype: object"
      ]
     },
     "metadata": {},
     "execution_count": 2
    }
   ],
   "source": [
    "#combine features into item profile\n",
    "def create_metadata_soup(row):\n",
    "    string = ' '\n",
    "    for feature in features:\n",
    "        string += row[feature]\n",
    "    return string\n",
    "df['profile'] = df_copy.apply(create_metadata_soup, axis=1)\n",
    "df['profile']"
   ]
  },
  {
   "cell_type": "code",
   "execution_count": 3,
   "metadata": {},
   "outputs": [
    {
     "output_type": "execute_result",
     "data": {
      "text/plain": [
       "     id                               title    rating  \\\n",
       "0   296  Terminator 3: Rise of the Machines  0.611111   \n",
       "1   272                       Batman Begins -0.388889   \n",
       "2   616                    The Last Samurai -0.388889   \n",
       "3   585                      Monsters, Inc.  1.611111   \n",
       "4   314                            Catwoman  0.611111   \n",
       "5   161                      Ocean's Eleven -0.388889   \n",
       "6   364                      Batman Returns -0.388889   \n",
       "7   587                            Big Fish -0.388889   \n",
       "8   550                          Fight Club -0.388889   \n",
       "9   497                      The Green Mile -0.388889   \n",
       "10  588                         Silent Hill -0.388889   \n",
       "11  593                             Solaris -0.388889   \n",
       "12  508                       Love Actually  0.611111   \n",
       "13  509                        Notting Hill  0.611111   \n",
       "14  165          Back to the Future Part II -0.388889   \n",
       "15  350               The Devil Wears Prada  0.611111   \n",
       "16  377           A Nightmare on Elm Street -0.388889   \n",
       "17  186                 Lucky Number Slevin -0.388889   \n",
       "18  590                           The Hours  1.611111   \n",
       "19  168       Star Trek IV: The Voyage Home -0.388889   \n",
       "20  539                              Psycho -0.388889   \n",
       "21  586                         Wag the Dog -0.388889   \n",
       "22  454                      Romeo + Juliet  0.611111   \n",
       "23  319                        True Romance -2.388889   \n",
       "24   62               2001: A Space Odyssey -0.388889   \n",
       "25  235                         Stand by Me -0.388889   \n",
       "26  253                    Live and Let Die  0.611111   \n",
       "27  153                 Lost in Translation  0.611111   \n",
       "28  261               Cat on a Hot Tin Roof  0.611111   \n",
       "29  292        Dave Chappelle's Block Party -0.388889   \n",
       "30  248               Pocketful of Miracles -0.388889   \n",
       "31  468                My Own Private Idaho  0.611111   \n",
       "32  592                    The Conversation  1.611111   \n",
       "33  223                             Rebecca -2.388889   \n",
       "34  480                     Monsoon Wedding  0.611111   \n",
       "35  500                      Reservoir Dogs  0.611111   \n",
       "\n",
       "                                              profile  \n",
       "0    savingtheworld artificialintelligence manvsma...  \n",
       "1    himalaya martialarts dccomicsaction crime dra...  \n",
       "2    japan warcrimes senseofguiltdrama action wart...  \n",
       "3    monster infant energysupplyanimation comedy f...  \n",
       "4    whiterussian sex dccomicsaction crimehalleber...  \n",
       "5    prison pickpocket stripclubthriller crimegeor...  \n",
       "6    holiday corruption doublelifeaction fantasymi...  \n",
       "7    circus fathersonrelationship witchadventure f...  \n",
       "8    supportgroup dualidentity nihilismdramaedward...  \n",
       "9    southernusa blackpeople mentallydisabledfanta...  \n",
       "10   monster motherrole burningofwitcheshorror mys...  \n",
       "11   1970s lossofsenseofreality extraterrestrialte...  \n",
       "12   londonengland malenudity femalenuditycomedy r...  \n",
       "13   londonengland bookshop birthdayromance comedy...  \n",
       "14   skateboarding flyingcar carraceadventure come...  \n",
       "15   paris journalist journalismcomedy drama roman...  \n",
       "16   childmurderer sleep nightmarehorrorjohnsaxon ...  \n",
       "17   assassination assassin identitydrama thriller...  \n",
       "18   londonengland suicide gaydramanicolekidman ju...  \n",
       "19   savingtheworld sanfrancisco ussenterprise-asc...  \n",
       "20   hotel clerk arizonadrama horror thrillerantho...  \n",
       "21   washingtond.c. rape ciacomedy dramadustinhoff...  \n",
       "22   shakespeare forbiddenlove gunviolencedrama ro...  \n",
       "23   fathersonrelationship filmproducer mexicansta...  \n",
       "24   moon jupiter artificialintelligencesciencefic...  \n",
       "25   basedonnovel friendship comingofagecrime dram...  \n",
       "26   londonengland newyork bombadventure action th...  \n",
       "27   upperclass hotelroom agedifferencedramabillmu...  \n",
       "28   individual suicide southernusadrama romanceel...  \n",
       "29   blackpeople hip-hop blockpartycomedy document...  \n",
       "30   dude prohibition deceptioncomedy dramaglennfo...  \n",
       "31   individual gay fathersonrelationshipdrama rom...  \n",
       "32   sanfrancisco paranoia audiotapecrime drama my...  \n",
       "33   montecarlo basedonnovel agedifferencedrama my...  \n",
       "34   childabuse adultery arrangedmarriagecomedy dr...  \n",
       "35   traitor jewelry psychopathcrime thrillerharve...  "
      ],
      "text/html": "<div>\n<style scoped>\n    .dataframe tbody tr th:only-of-type {\n        vertical-align: middle;\n    }\n\n    .dataframe tbody tr th {\n        vertical-align: top;\n    }\n\n    .dataframe thead th {\n        text-align: right;\n    }\n</style>\n<table border=\"1\" class=\"dataframe\">\n  <thead>\n    <tr style=\"text-align: right;\">\n      <th></th>\n      <th>id</th>\n      <th>title</th>\n      <th>rating</th>\n      <th>profile</th>\n    </tr>\n  </thead>\n  <tbody>\n    <tr>\n      <th>0</th>\n      <td>296</td>\n      <td>Terminator 3: Rise of the Machines</td>\n      <td>0.611111</td>\n      <td>savingtheworld artificialintelligence manvsma...</td>\n    </tr>\n    <tr>\n      <th>1</th>\n      <td>272</td>\n      <td>Batman Begins</td>\n      <td>-0.388889</td>\n      <td>himalaya martialarts dccomicsaction crime dra...</td>\n    </tr>\n    <tr>\n      <th>2</th>\n      <td>616</td>\n      <td>The Last Samurai</td>\n      <td>-0.388889</td>\n      <td>japan warcrimes senseofguiltdrama action wart...</td>\n    </tr>\n    <tr>\n      <th>3</th>\n      <td>585</td>\n      <td>Monsters, Inc.</td>\n      <td>1.611111</td>\n      <td>monster infant energysupplyanimation comedy f...</td>\n    </tr>\n    <tr>\n      <th>4</th>\n      <td>314</td>\n      <td>Catwoman</td>\n      <td>0.611111</td>\n      <td>whiterussian sex dccomicsaction crimehalleber...</td>\n    </tr>\n    <tr>\n      <th>5</th>\n      <td>161</td>\n      <td>Ocean's Eleven</td>\n      <td>-0.388889</td>\n      <td>prison pickpocket stripclubthriller crimegeor...</td>\n    </tr>\n    <tr>\n      <th>6</th>\n      <td>364</td>\n      <td>Batman Returns</td>\n      <td>-0.388889</td>\n      <td>holiday corruption doublelifeaction fantasymi...</td>\n    </tr>\n    <tr>\n      <th>7</th>\n      <td>587</td>\n      <td>Big Fish</td>\n      <td>-0.388889</td>\n      <td>circus fathersonrelationship witchadventure f...</td>\n    </tr>\n    <tr>\n      <th>8</th>\n      <td>550</td>\n      <td>Fight Club</td>\n      <td>-0.388889</td>\n      <td>supportgroup dualidentity nihilismdramaedward...</td>\n    </tr>\n    <tr>\n      <th>9</th>\n      <td>497</td>\n      <td>The Green Mile</td>\n      <td>-0.388889</td>\n      <td>southernusa blackpeople mentallydisabledfanta...</td>\n    </tr>\n    <tr>\n      <th>10</th>\n      <td>588</td>\n      <td>Silent Hill</td>\n      <td>-0.388889</td>\n      <td>monster motherrole burningofwitcheshorror mys...</td>\n    </tr>\n    <tr>\n      <th>11</th>\n      <td>593</td>\n      <td>Solaris</td>\n      <td>-0.388889</td>\n      <td>1970s lossofsenseofreality extraterrestrialte...</td>\n    </tr>\n    <tr>\n      <th>12</th>\n      <td>508</td>\n      <td>Love Actually</td>\n      <td>0.611111</td>\n      <td>londonengland malenudity femalenuditycomedy r...</td>\n    </tr>\n    <tr>\n      <th>13</th>\n      <td>509</td>\n      <td>Notting Hill</td>\n      <td>0.611111</td>\n      <td>londonengland bookshop birthdayromance comedy...</td>\n    </tr>\n    <tr>\n      <th>14</th>\n      <td>165</td>\n      <td>Back to the Future Part II</td>\n      <td>-0.388889</td>\n      <td>skateboarding flyingcar carraceadventure come...</td>\n    </tr>\n    <tr>\n      <th>15</th>\n      <td>350</td>\n      <td>The Devil Wears Prada</td>\n      <td>0.611111</td>\n      <td>paris journalist journalismcomedy drama roman...</td>\n    </tr>\n    <tr>\n      <th>16</th>\n      <td>377</td>\n      <td>A Nightmare on Elm Street</td>\n      <td>-0.388889</td>\n      <td>childmurderer sleep nightmarehorrorjohnsaxon ...</td>\n    </tr>\n    <tr>\n      <th>17</th>\n      <td>186</td>\n      <td>Lucky Number Slevin</td>\n      <td>-0.388889</td>\n      <td>assassination assassin identitydrama thriller...</td>\n    </tr>\n    <tr>\n      <th>18</th>\n      <td>590</td>\n      <td>The Hours</td>\n      <td>1.611111</td>\n      <td>londonengland suicide gaydramanicolekidman ju...</td>\n    </tr>\n    <tr>\n      <th>19</th>\n      <td>168</td>\n      <td>Star Trek IV: The Voyage Home</td>\n      <td>-0.388889</td>\n      <td>savingtheworld sanfrancisco ussenterprise-asc...</td>\n    </tr>\n    <tr>\n      <th>20</th>\n      <td>539</td>\n      <td>Psycho</td>\n      <td>-0.388889</td>\n      <td>hotel clerk arizonadrama horror thrillerantho...</td>\n    </tr>\n    <tr>\n      <th>21</th>\n      <td>586</td>\n      <td>Wag the Dog</td>\n      <td>-0.388889</td>\n      <td>washingtond.c. rape ciacomedy dramadustinhoff...</td>\n    </tr>\n    <tr>\n      <th>22</th>\n      <td>454</td>\n      <td>Romeo + Juliet</td>\n      <td>0.611111</td>\n      <td>shakespeare forbiddenlove gunviolencedrama ro...</td>\n    </tr>\n    <tr>\n      <th>23</th>\n      <td>319</td>\n      <td>True Romance</td>\n      <td>-2.388889</td>\n      <td>fathersonrelationship filmproducer mexicansta...</td>\n    </tr>\n    <tr>\n      <th>24</th>\n      <td>62</td>\n      <td>2001: A Space Odyssey</td>\n      <td>-0.388889</td>\n      <td>moon jupiter artificialintelligencesciencefic...</td>\n    </tr>\n    <tr>\n      <th>25</th>\n      <td>235</td>\n      <td>Stand by Me</td>\n      <td>-0.388889</td>\n      <td>basedonnovel friendship comingofagecrime dram...</td>\n    </tr>\n    <tr>\n      <th>26</th>\n      <td>253</td>\n      <td>Live and Let Die</td>\n      <td>0.611111</td>\n      <td>londonengland newyork bombadventure action th...</td>\n    </tr>\n    <tr>\n      <th>27</th>\n      <td>153</td>\n      <td>Lost in Translation</td>\n      <td>0.611111</td>\n      <td>upperclass hotelroom agedifferencedramabillmu...</td>\n    </tr>\n    <tr>\n      <th>28</th>\n      <td>261</td>\n      <td>Cat on a Hot Tin Roof</td>\n      <td>0.611111</td>\n      <td>individual suicide southernusadrama romanceel...</td>\n    </tr>\n    <tr>\n      <th>29</th>\n      <td>292</td>\n      <td>Dave Chappelle's Block Party</td>\n      <td>-0.388889</td>\n      <td>blackpeople hip-hop blockpartycomedy document...</td>\n    </tr>\n    <tr>\n      <th>30</th>\n      <td>248</td>\n      <td>Pocketful of Miracles</td>\n      <td>-0.388889</td>\n      <td>dude prohibition deceptioncomedy dramaglennfo...</td>\n    </tr>\n    <tr>\n      <th>31</th>\n      <td>468</td>\n      <td>My Own Private Idaho</td>\n      <td>0.611111</td>\n      <td>individual gay fathersonrelationshipdrama rom...</td>\n    </tr>\n    <tr>\n      <th>32</th>\n      <td>592</td>\n      <td>The Conversation</td>\n      <td>1.611111</td>\n      <td>sanfrancisco paranoia audiotapecrime drama my...</td>\n    </tr>\n    <tr>\n      <th>33</th>\n      <td>223</td>\n      <td>Rebecca</td>\n      <td>-2.388889</td>\n      <td>montecarlo basedonnovel agedifferencedrama my...</td>\n    </tr>\n    <tr>\n      <th>34</th>\n      <td>480</td>\n      <td>Monsoon Wedding</td>\n      <td>0.611111</td>\n      <td>childabuse adultery arrangedmarriagecomedy dr...</td>\n    </tr>\n    <tr>\n      <th>35</th>\n      <td>500</td>\n      <td>Reservoir Dogs</td>\n      <td>0.611111</td>\n      <td>traitor jewelry psychopathcrime thrillerharve...</td>\n    </tr>\n  </tbody>\n</table>\n</div>"
     },
     "metadata": {},
     "execution_count": 3
    }
   ],
   "source": [
    "user = df_ratings.loc[df_ratings['userId'] == 2]\n",
    "#calc mean rating for user\n",
    "baseline = user['rating'].mean()\n",
    "#normalize ratings by substructing mean value\n",
    "user['rating'] -= baseline\n",
    "user[['movieId','rating']]\n",
    "#get items rated by user\n",
    "rated = pd.merge(df, user, left_on='id', right_on='movieId')\n",
    "rated[['id', 'title', 'rating', 'profile']]"
   ]
  },
  {
   "cell_type": "code",
   "execution_count": 4,
   "metadata": {},
   "outputs": [],
   "source": [
    "#partion data on test and train\n",
    "from sklearn.model_selection import train_test_split\n",
    "#x_train, x_test, y_train, y_test = train_test_split(rated[['id', 'title', 'profile']], rated['rating'], \n",
    "#        test_size=0.2, random_state=123)\n",
    "x_train = rated[['id', 'title', 'profile']].head(28)\n",
    "y_train = rated['rating'].head(28)\n",
    "x_test = rated[['id', 'title', 'profile']].tail(8)\n",
    "y_test = rated['rating'].tail(8)"
   ]
  },
  {
   "cell_type": "code",
   "execution_count": 5,
   "metadata": {},
   "outputs": [
    {
     "output_type": "stream",
     "name": "stderr",
     "text": [
      "[nltk_data] Downloading package wordnet to /home/victoria/nltk_data...\n[nltk_data]   Package wordnet is already up-to-date!\n[nltk_data] Downloading package stopwords to\n[nltk_data]     /home/victoria/nltk_data...\n[nltk_data]   Package stopwords is already up-to-date!\n"
     ]
    }
   ],
   "source": [
    "#create tfidf matrix on item profiles\n",
    "from sklearn.feature_extraction.text import TfidfVectorizer\n",
    "from services.preprocess_text import preprocess_text\n",
    "vectoriser = TfidfVectorizer(analyzer=preprocess_text)\n",
    "x_train_profile = vectoriser.fit_transform(x_train['profile'])\n",
    "x_test_profile = vectoriser.transform(x_test['profile'])"
   ]
  },
  {
   "cell_type": "code",
   "execution_count": 19,
   "metadata": {},
   "outputs": [
    {
     "output_type": "stream",
     "name": "stdout",
     "text": [
      "[0.0, 0.0, 0.0, 0.0, 0.0, 0.0, 0.0, 0.0, 0.0, 0.0, 0.0, 0.0, 0.0, 0.0, 0.0, 0.0, 0.0, 0.0, 0.0, 0.0, 0.0, 0.0, 0.0, 0.0, 0.0, 0.0, 0.0, 0.0, 0.0, 0.0, 0.0, 0.0, 0.0, 0.0, 0.0, 0.0, 0.0, 0.0, 0.0, 0.0, 0.0, 0.0, 0.0, 0.0, 0.0, 0.0, 0.0, 0.0, 0.0, 0.0, 0.0, 0.0, 0.0, 0.0, 0.0, 0.0, 0.0, 0.0, 0.0, 0.0, 0.0, 0.0, 0.0, 0.0, 0.0, 0.0, 0.0, 0.0, 0.0, 0.0, 0.0, 0.0, 0.0, 0.0, 0.0, 0.0, 0.0, 0.0, 0.0, 0.0, 0.0, 0.0, 0.0, 0.0, 0.0, 0.0, 0.0, 0.0, 0.0, 0.0, 0.0, 0.0, 0.0, 0.0, 0.0, 0.0, 0.0, 0.0, 0.0, 0.0, 0.0, 0.0, 0.0, 0.0, 0.0, 0.0, 0.0, 0.0, 0.0, 0.0, 0.0, 0.0, 0.0, 0.0, 0.0, 0.0, 0.0, 0.0, 0.0, 0.0, 0.0, 0.0, 0.0, 0.0, 0.0, 0.0, 0.0, 0.0, 0.0, 0.0, 0.0, 0.0, 0.0, 0.0, 0.0, 0.0, 0.0, 0.0, 0.0, 0.0, 0.0, 0.0, 0.0, 0.0, 0.0, 0.0, 0.0, 0.0, 0.0, 0.0, 0.0, 0.0, 0.0, 0.0, 0.0, 0.0, 0.0, 0.0, 0.0, 0.0, 0.0, 0.0, 0.0, 0.0, 0.0, 0.0, 0.0, 0.0, 0.0]\n"
     ]
    },
    {
     "output_type": "execute_result",
     "data": {
      "text/plain": [
       "  title                                            profile\n",
       "0   NaN  [0.0, 0.0, 0.0, 0.0, 0.0, 0.0, 0.0, 0.0, 0.0, ...\n",
       "1   NaN  [0.0, 0.0, 0.0, 0.0, 0.0, 0.0, 0.0, 0.0, 0.0, ...\n",
       "2   NaN  [0.0, 0.0, 0.0, 0.0, 0.0, 0.0, 0.0, 0.0, 0.0, ...\n",
       "3   NaN  [0.0, 0.0, 0.0, 0.0, 0.0, 0.0, 0.0, 0.0, 0.0, ...\n",
       "4   NaN  [0.0, 0.0, 0.0, 0.0, 0.0, 0.0, 0.0, 0.0, 0.0, ...\n",
       "5   NaN  [0.0, 0.0, 0.0, 0.0, 0.0, 0.0, 0.0, 0.0, 0.0, ...\n",
       "6   NaN  [0.0, 0.0, 0.0, 0.0, 0.0, 0.0, 0.0, 0.0, 0.0, ...\n",
       "7   NaN  [0.0, 0.0, 0.0, 0.0, 0.0, 0.0, 0.0, 0.0, 0.0, ..."
      ],
      "text/html": "<div>\n<style scoped>\n    .dataframe tbody tr th:only-of-type {\n        vertical-align: middle;\n    }\n\n    .dataframe tbody tr th {\n        vertical-align: top;\n    }\n\n    .dataframe thead th {\n        text-align: right;\n    }\n</style>\n<table border=\"1\" class=\"dataframe\">\n  <thead>\n    <tr style=\"text-align: right;\">\n      <th></th>\n      <th>title</th>\n      <th>profile</th>\n    </tr>\n  </thead>\n  <tbody>\n    <tr>\n      <th>0</th>\n      <td>NaN</td>\n      <td>[0.0, 0.0, 0.0, 0.0, 0.0, 0.0, 0.0, 0.0, 0.0, ...</td>\n    </tr>\n    <tr>\n      <th>1</th>\n      <td>NaN</td>\n      <td>[0.0, 0.0, 0.0, 0.0, 0.0, 0.0, 0.0, 0.0, 0.0, ...</td>\n    </tr>\n    <tr>\n      <th>2</th>\n      <td>NaN</td>\n      <td>[0.0, 0.0, 0.0, 0.0, 0.0, 0.0, 0.0, 0.0, 0.0, ...</td>\n    </tr>\n    <tr>\n      <th>3</th>\n      <td>NaN</td>\n      <td>[0.0, 0.0, 0.0, 0.0, 0.0, 0.0, 0.0, 0.0, 0.0, ...</td>\n    </tr>\n    <tr>\n      <th>4</th>\n      <td>NaN</td>\n      <td>[0.0, 0.0, 0.0, 0.0, 0.0, 0.0, 0.0, 0.0, 0.0, ...</td>\n    </tr>\n    <tr>\n      <th>5</th>\n      <td>NaN</td>\n      <td>[0.0, 0.0, 0.0, 0.0, 0.0, 0.0, 0.0, 0.0, 0.0, ...</td>\n    </tr>\n    <tr>\n      <th>6</th>\n      <td>NaN</td>\n      <td>[0.0, 0.0, 0.0, 0.0, 0.0, 0.0, 0.0, 0.0, 0.0, ...</td>\n    </tr>\n    <tr>\n      <th>7</th>\n      <td>NaN</td>\n      <td>[0.0, 0.0, 0.0, 0.0, 0.0, 0.0, 0.0, 0.0, 0.0, ...</td>\n    </tr>\n  </tbody>\n</table>\n</div>"
     },
     "metadata": {},
     "execution_count": 19
    }
   ],
   "source": [
    "test_profile_arr = x_test_profile.toarray().data\n",
    "test_list = test_profile_arr.tolist()\n",
    "test_series = pd.Series(test_list)\n",
    "print(test_series[2])\n",
    "x_test['profile'] = test_series\n",
    "x_test[['title', 'profile']]"
   ]
  },
  {
   "cell_type": "code",
   "execution_count": 8,
   "metadata": {},
   "outputs": [
    {
     "output_type": "execute_result",
     "data": {
      "text/plain": [
       "                                 title  \\\n",
       "0   Terminator 3: Rise of the Machines   \n",
       "1                        Batman Begins   \n",
       "2                     The Last Samurai   \n",
       "3                       Monsters, Inc.   \n",
       "4                             Catwoman   \n",
       "5                       Ocean's Eleven   \n",
       "6                       Batman Returns   \n",
       "7                             Big Fish   \n",
       "8                           Fight Club   \n",
       "9                       The Green Mile   \n",
       "10                         Silent Hill   \n",
       "11                             Solaris   \n",
       "12                       Love Actually   \n",
       "13                        Notting Hill   \n",
       "14          Back to the Future Part II   \n",
       "15               The Devil Wears Prada   \n",
       "16           A Nightmare on Elm Street   \n",
       "17                 Lucky Number Slevin   \n",
       "18                           The Hours   \n",
       "19       Star Trek IV: The Voyage Home   \n",
       "20                              Psycho   \n",
       "21                         Wag the Dog   \n",
       "22                      Romeo + Juliet   \n",
       "23                        True Romance   \n",
       "24               2001: A Space Odyssey   \n",
       "25                         Stand by Me   \n",
       "26                    Live and Let Die   \n",
       "27                 Lost in Translation   \n",
       "\n",
       "                                              profile  \n",
       "0   [0.0, 0.0, 0.0, 0.0, 0.0, 0.0, 0.0, 0.0, 0.0, ...  \n",
       "1   [0.0, 0.0, 0.0, 0.0, 0.0, 0.0, 0.0, 0.0, 0.0, ...  \n",
       "2   [0.3413771003742664, 0.0, 0.0, 0.0, 0.0, 0.0, ...  \n",
       "3   [0.0, 0.0, 0.0, 0.0, 0.0, 0.0, 0.0, 0.0, 0.0, ...  \n",
       "4   [0.0, 0.0, 0.0, 0.0, 0.0, 0.0, 0.0, 0.0, 0.0, ...  \n",
       "5   [0.0, 0.0, 0.0, 0.0, 0.0, 0.0, 0.0, 0.0, 0.0, ...  \n",
       "6   [0.0, 0.0, 0.0, 0.0, 0.0, 0.0, 0.0, 0.0, 0.0, ...  \n",
       "7   [0.0, 0.0, 0.0, 0.0, 0.0, 0.38372335419762543,...  \n",
       "8   [0.0, 0.0, 0.0, 0.0, 0.0, 0.0, 0.0, 0.0, 0.0, ...  \n",
       "9   [0.0, 0.0, 0.0, 0.0, 0.0, 0.0, 0.0, 0.0, 0.0, ...  \n",
       "10  [0.0, 0.0, 0.0, 0.0, 0.0, 0.0, 0.0, 0.0, 0.0, ...  \n",
       "11  [0.0, 0.3535533905932738, 0.0, 0.0, 0.0, 0.0, ...  \n",
       "12  [0.0, 0.0, 0.0, 0.0, 0.0, 0.0, 0.0, 0.0, 0.0, ...  \n",
       "13  [0.0, 0.0, 0.0, 0.0, 0.0, 0.0, 0.0, 0.0, 0.0, ...  \n",
       "14  [0.0, 0.0, 0.0, 0.0, 0.0, 0.0, 0.0, 0.0, 0.0, ...  \n",
       "15  [0.0, 0.0, 0.0, 0.0, 0.0, 0.0, 0.0, 0.38372335...  \n",
       "16  [0.0, 0.0, 0.0, 0.0, 0.0, 0.0, 0.0, 0.0, 0.0, ...  \n",
       "17  [0.0, 0.0, 0.0, 0.0, 0.0, 0.0, 0.0, 0.0, 0.0, ...  \n",
       "18  [0.0, 0.0, 0.0, 0.0, 0.0, 0.0, 0.0, 0.0, 0.0, ...  \n",
       "19  [0.0, 0.0, 0.0, 0.38372335419762543, 0.0, 0.0,...  \n",
       "20  [0.0, 0.0, 0.0, 0.0, 0.0, 0.0, 0.0, 0.0, 0.0, ...  \n",
       "21  [0.0, 0.0, 0.0, 0.0, 0.0, 0.0, 0.0, 0.0, 0.377...  \n",
       "22  [0.0, 0.0, 0.0, 0.0, 0.0, 0.0, 0.0, 0.0, 0.0, ...  \n",
       "23  [0.0, 0.0, 0.0, 0.0, 0.0, 0.0, 0.0, 0.0, 0.0, ...  \n",
       "24  [0.0, 0.0, 0.37796447300922725, 0.0, 0.0, 0.0,...  \n",
       "25  [0.0, 0.0, 0.0, 0.0, 0.0, 0.0, 0.0, 0.0, 0.0, ...  \n",
       "26  [0.35290869112496365, 0.0, 0.0, 0.0, 0.0, 0.0,...  \n",
       "27  [0.0, 0.0, 0.0, 0.0, 0.4472135954999579, 0.0, ...  "
      ],
      "text/html": "<div>\n<style scoped>\n    .dataframe tbody tr th:only-of-type {\n        vertical-align: middle;\n    }\n\n    .dataframe tbody tr th {\n        vertical-align: top;\n    }\n\n    .dataframe thead th {\n        text-align: right;\n    }\n</style>\n<table border=\"1\" class=\"dataframe\">\n  <thead>\n    <tr style=\"text-align: right;\">\n      <th></th>\n      <th>title</th>\n      <th>profile</th>\n    </tr>\n  </thead>\n  <tbody>\n    <tr>\n      <th>0</th>\n      <td>Terminator 3: Rise of the Machines</td>\n      <td>[0.0, 0.0, 0.0, 0.0, 0.0, 0.0, 0.0, 0.0, 0.0, ...</td>\n    </tr>\n    <tr>\n      <th>1</th>\n      <td>Batman Begins</td>\n      <td>[0.0, 0.0, 0.0, 0.0, 0.0, 0.0, 0.0, 0.0, 0.0, ...</td>\n    </tr>\n    <tr>\n      <th>2</th>\n      <td>The Last Samurai</td>\n      <td>[0.3413771003742664, 0.0, 0.0, 0.0, 0.0, 0.0, ...</td>\n    </tr>\n    <tr>\n      <th>3</th>\n      <td>Monsters, Inc.</td>\n      <td>[0.0, 0.0, 0.0, 0.0, 0.0, 0.0, 0.0, 0.0, 0.0, ...</td>\n    </tr>\n    <tr>\n      <th>4</th>\n      <td>Catwoman</td>\n      <td>[0.0, 0.0, 0.0, 0.0, 0.0, 0.0, 0.0, 0.0, 0.0, ...</td>\n    </tr>\n    <tr>\n      <th>5</th>\n      <td>Ocean's Eleven</td>\n      <td>[0.0, 0.0, 0.0, 0.0, 0.0, 0.0, 0.0, 0.0, 0.0, ...</td>\n    </tr>\n    <tr>\n      <th>6</th>\n      <td>Batman Returns</td>\n      <td>[0.0, 0.0, 0.0, 0.0, 0.0, 0.0, 0.0, 0.0, 0.0, ...</td>\n    </tr>\n    <tr>\n      <th>7</th>\n      <td>Big Fish</td>\n      <td>[0.0, 0.0, 0.0, 0.0, 0.0, 0.38372335419762543,...</td>\n    </tr>\n    <tr>\n      <th>8</th>\n      <td>Fight Club</td>\n      <td>[0.0, 0.0, 0.0, 0.0, 0.0, 0.0, 0.0, 0.0, 0.0, ...</td>\n    </tr>\n    <tr>\n      <th>9</th>\n      <td>The Green Mile</td>\n      <td>[0.0, 0.0, 0.0, 0.0, 0.0, 0.0, 0.0, 0.0, 0.0, ...</td>\n    </tr>\n    <tr>\n      <th>10</th>\n      <td>Silent Hill</td>\n      <td>[0.0, 0.0, 0.0, 0.0, 0.0, 0.0, 0.0, 0.0, 0.0, ...</td>\n    </tr>\n    <tr>\n      <th>11</th>\n      <td>Solaris</td>\n      <td>[0.0, 0.3535533905932738, 0.0, 0.0, 0.0, 0.0, ...</td>\n    </tr>\n    <tr>\n      <th>12</th>\n      <td>Love Actually</td>\n      <td>[0.0, 0.0, 0.0, 0.0, 0.0, 0.0, 0.0, 0.0, 0.0, ...</td>\n    </tr>\n    <tr>\n      <th>13</th>\n      <td>Notting Hill</td>\n      <td>[0.0, 0.0, 0.0, 0.0, 0.0, 0.0, 0.0, 0.0, 0.0, ...</td>\n    </tr>\n    <tr>\n      <th>14</th>\n      <td>Back to the Future Part II</td>\n      <td>[0.0, 0.0, 0.0, 0.0, 0.0, 0.0, 0.0, 0.0, 0.0, ...</td>\n    </tr>\n    <tr>\n      <th>15</th>\n      <td>The Devil Wears Prada</td>\n      <td>[0.0, 0.0, 0.0, 0.0, 0.0, 0.0, 0.0, 0.38372335...</td>\n    </tr>\n    <tr>\n      <th>16</th>\n      <td>A Nightmare on Elm Street</td>\n      <td>[0.0, 0.0, 0.0, 0.0, 0.0, 0.0, 0.0, 0.0, 0.0, ...</td>\n    </tr>\n    <tr>\n      <th>17</th>\n      <td>Lucky Number Slevin</td>\n      <td>[0.0, 0.0, 0.0, 0.0, 0.0, 0.0, 0.0, 0.0, 0.0, ...</td>\n    </tr>\n    <tr>\n      <th>18</th>\n      <td>The Hours</td>\n      <td>[0.0, 0.0, 0.0, 0.0, 0.0, 0.0, 0.0, 0.0, 0.0, ...</td>\n    </tr>\n    <tr>\n      <th>19</th>\n      <td>Star Trek IV: The Voyage Home</td>\n      <td>[0.0, 0.0, 0.0, 0.38372335419762543, 0.0, 0.0,...</td>\n    </tr>\n    <tr>\n      <th>20</th>\n      <td>Psycho</td>\n      <td>[0.0, 0.0, 0.0, 0.0, 0.0, 0.0, 0.0, 0.0, 0.0, ...</td>\n    </tr>\n    <tr>\n      <th>21</th>\n      <td>Wag the Dog</td>\n      <td>[0.0, 0.0, 0.0, 0.0, 0.0, 0.0, 0.0, 0.0, 0.377...</td>\n    </tr>\n    <tr>\n      <th>22</th>\n      <td>Romeo + Juliet</td>\n      <td>[0.0, 0.0, 0.0, 0.0, 0.0, 0.0, 0.0, 0.0, 0.0, ...</td>\n    </tr>\n    <tr>\n      <th>23</th>\n      <td>True Romance</td>\n      <td>[0.0, 0.0, 0.0, 0.0, 0.0, 0.0, 0.0, 0.0, 0.0, ...</td>\n    </tr>\n    <tr>\n      <th>24</th>\n      <td>2001: A Space Odyssey</td>\n      <td>[0.0, 0.0, 0.37796447300922725, 0.0, 0.0, 0.0,...</td>\n    </tr>\n    <tr>\n      <th>25</th>\n      <td>Stand by Me</td>\n      <td>[0.0, 0.0, 0.0, 0.0, 0.0, 0.0, 0.0, 0.0, 0.0, ...</td>\n    </tr>\n    <tr>\n      <th>26</th>\n      <td>Live and Let Die</td>\n      <td>[0.35290869112496365, 0.0, 0.0, 0.0, 0.0, 0.0,...</td>\n    </tr>\n    <tr>\n      <th>27</th>\n      <td>Lost in Translation</td>\n      <td>[0.0, 0.0, 0.0, 0.0, 0.4472135954999579, 0.0, ...</td>\n    </tr>\n  </tbody>\n</table>\n</div>"
     },
     "metadata": {},
     "execution_count": 8
    }
   ],
   "source": [
    "train_profile_arr = x_train_profile.toarray().data\n",
    "train_list = train_profile_arr.tolist()\n",
    "train_series = pd.Series(train_list)\n",
    "x_train['profile'] = train_series\n",
    "x_train[['title', 'profile']]"
   ]
  },
  {
   "cell_type": "code",
   "execution_count": 9,
   "metadata": {},
   "outputs": [
    {
     "output_type": "execute_result",
     "data": {
      "text/plain": [
       "[153, 253, 261, 296, 314, 350, 454, 468, 480, 500, 508, 509, 585, 590, 592]"
      ]
     },
     "metadata": {},
     "execution_count": 9
    }
   ],
   "source": [
    "#get list with ids of items with rating more than avarage\n",
    "top_ratings = user.loc[user['rating'] > 0]\n",
    "top_rated_ids = top_ratings['movieId'].tolist()\n",
    "top_rated_ids"
   ]
  },
  {
   "cell_type": "code",
   "execution_count": 10,
   "metadata": {},
   "outputs": [
    {
     "output_type": "execute_result",
     "data": {
      "text/plain": [
       "     id                               title  \\\n",
       "0   296  Terminator 3: Rise of the Machines   \n",
       "3   585                      Monsters, Inc.   \n",
       "4   314                            Catwoman   \n",
       "12  508                       Love Actually   \n",
       "13  509                        Notting Hill   \n",
       "15  350               The Devil Wears Prada   \n",
       "18  590                           The Hours   \n",
       "22  454                      Romeo + Juliet   \n",
       "26  253                    Live and Let Die   \n",
       "27  153                 Lost in Translation   \n",
       "\n",
       "                                              profile  \n",
       "0   [0.0, 0.0, 0.0, 0.0, 0.0, 0.0, 0.0, 0.0, 0.0, ...  \n",
       "3   [0.0, 0.0, 0.0, 0.0, 0.0, 0.0, 0.0, 0.0, 0.0, ...  \n",
       "4   [0.0, 0.0, 0.0, 0.0, 0.0, 0.0, 0.0, 0.0, 0.0, ...  \n",
       "12  [0.0, 0.0, 0.0, 0.0, 0.0, 0.0, 0.0, 0.0, 0.0, ...  \n",
       "13  [0.0, 0.0, 0.0, 0.0, 0.0, 0.0, 0.0, 0.0, 0.0, ...  \n",
       "15  [0.0, 0.0, 0.0, 0.0, 0.0, 0.0, 0.0, 0.38372335...  \n",
       "18  [0.0, 0.0, 0.0, 0.0, 0.0, 0.0, 0.0, 0.0, 0.0, ...  \n",
       "22  [0.0, 0.0, 0.0, 0.0, 0.0, 0.0, 0.0, 0.0, 0.0, ...  \n",
       "26  [0.35290869112496365, 0.0, 0.0, 0.0, 0.0, 0.0,...  \n",
       "27  [0.0, 0.0, 0.0, 0.0, 0.4472135954999579, 0.0, ...  "
      ],
      "text/html": "<div>\n<style scoped>\n    .dataframe tbody tr th:only-of-type {\n        vertical-align: middle;\n    }\n\n    .dataframe tbody tr th {\n        vertical-align: top;\n    }\n\n    .dataframe thead th {\n        text-align: right;\n    }\n</style>\n<table border=\"1\" class=\"dataframe\">\n  <thead>\n    <tr style=\"text-align: right;\">\n      <th></th>\n      <th>id</th>\n      <th>title</th>\n      <th>profile</th>\n    </tr>\n  </thead>\n  <tbody>\n    <tr>\n      <th>0</th>\n      <td>296</td>\n      <td>Terminator 3: Rise of the Machines</td>\n      <td>[0.0, 0.0, 0.0, 0.0, 0.0, 0.0, 0.0, 0.0, 0.0, ...</td>\n    </tr>\n    <tr>\n      <th>3</th>\n      <td>585</td>\n      <td>Monsters, Inc.</td>\n      <td>[0.0, 0.0, 0.0, 0.0, 0.0, 0.0, 0.0, 0.0, 0.0, ...</td>\n    </tr>\n    <tr>\n      <th>4</th>\n      <td>314</td>\n      <td>Catwoman</td>\n      <td>[0.0, 0.0, 0.0, 0.0, 0.0, 0.0, 0.0, 0.0, 0.0, ...</td>\n    </tr>\n    <tr>\n      <th>12</th>\n      <td>508</td>\n      <td>Love Actually</td>\n      <td>[0.0, 0.0, 0.0, 0.0, 0.0, 0.0, 0.0, 0.0, 0.0, ...</td>\n    </tr>\n    <tr>\n      <th>13</th>\n      <td>509</td>\n      <td>Notting Hill</td>\n      <td>[0.0, 0.0, 0.0, 0.0, 0.0, 0.0, 0.0, 0.0, 0.0, ...</td>\n    </tr>\n    <tr>\n      <th>15</th>\n      <td>350</td>\n      <td>The Devil Wears Prada</td>\n      <td>[0.0, 0.0, 0.0, 0.0, 0.0, 0.0, 0.0, 0.38372335...</td>\n    </tr>\n    <tr>\n      <th>18</th>\n      <td>590</td>\n      <td>The Hours</td>\n      <td>[0.0, 0.0, 0.0, 0.0, 0.0, 0.0, 0.0, 0.0, 0.0, ...</td>\n    </tr>\n    <tr>\n      <th>22</th>\n      <td>454</td>\n      <td>Romeo + Juliet</td>\n      <td>[0.0, 0.0, 0.0, 0.0, 0.0, 0.0, 0.0, 0.0, 0.0, ...</td>\n    </tr>\n    <tr>\n      <th>26</th>\n      <td>253</td>\n      <td>Live and Let Die</td>\n      <td>[0.35290869112496365, 0.0, 0.0, 0.0, 0.0, 0.0,...</td>\n    </tr>\n    <tr>\n      <th>27</th>\n      <td>153</td>\n      <td>Lost in Translation</td>\n      <td>[0.0, 0.0, 0.0, 0.0, 0.4472135954999579, 0.0, ...</td>\n    </tr>\n  </tbody>\n</table>\n</div>"
     },
     "metadata": {},
     "execution_count": 10
    }
   ],
   "source": [
    "#get profiles of top rated items\n",
    "top_rated_data = x_train[x_train['id'].isin(top_rated_ids)]\n",
    "top_rated_data[['id', 'title', 'profile']]"
   ]
  },
  {
   "cell_type": "code",
   "execution_count": 11,
   "metadata": {},
   "outputs": [
    {
     "output_type": "execute_result",
     "data": {
      "text/plain": [
       "    id                               title  \\\n",
       "0  296  Terminator 3: Rise of the Machines   \n",
       "1  585                      Monsters, Inc.   \n",
       "2  314                            Catwoman   \n",
       "3  508                       Love Actually   \n",
       "4  509                        Notting Hill   \n",
       "5  350               The Devil Wears Prada   \n",
       "6  590                           The Hours   \n",
       "7  454                      Romeo + Juliet   \n",
       "8  253                    Live and Let Die   \n",
       "9  153                 Lost in Translation   \n",
       "\n",
       "                                             profile    rating  \n",
       "0  [0.0, 0.0, 0.0, 0.0, 0.0, 0.0, 0.0, 0.0, 0.0, ...  0.611111  \n",
       "1  [0.0, 0.0, 0.0, 0.0, 0.0, 0.0, 0.0, 0.0, 0.0, ...  1.611111  \n",
       "2  [0.0, 0.0, 0.0, 0.0, 0.0, 0.0, 0.0, 0.0, 0.0, ...  0.611111  \n",
       "3  [0.0, 0.0, 0.0, 0.0, 0.0, 0.0, 0.0, 0.0, 0.0, ...  0.611111  \n",
       "4  [0.0, 0.0, 0.0, 0.0, 0.0, 0.0, 0.0, 0.0, 0.0, ...  0.611111  \n",
       "5  [0.0, 0.0, 0.0, 0.0, 0.0, 0.0, 0.0, 0.38372335...  0.611111  \n",
       "6  [0.0, 0.0, 0.0, 0.0, 0.0, 0.0, 0.0, 0.0, 0.0, ...  1.611111  \n",
       "7  [0.0, 0.0, 0.0, 0.0, 0.0, 0.0, 0.0, 0.0, 0.0, ...  0.611111  \n",
       "8  [0.35290869112496365, 0.0, 0.0, 0.0, 0.0, 0.0,...  0.611111  \n",
       "9  [0.0, 0.0, 0.0, 0.0, 0.4472135954999579, 0.0, ...  0.611111  "
      ],
      "text/html": "<div>\n<style scoped>\n    .dataframe tbody tr th:only-of-type {\n        vertical-align: middle;\n    }\n\n    .dataframe tbody tr th {\n        vertical-align: top;\n    }\n\n    .dataframe thead th {\n        text-align: right;\n    }\n</style>\n<table border=\"1\" class=\"dataframe\">\n  <thead>\n    <tr style=\"text-align: right;\">\n      <th></th>\n      <th>id</th>\n      <th>title</th>\n      <th>profile</th>\n      <th>rating</th>\n    </tr>\n  </thead>\n  <tbody>\n    <tr>\n      <th>0</th>\n      <td>296</td>\n      <td>Terminator 3: Rise of the Machines</td>\n      <td>[0.0, 0.0, 0.0, 0.0, 0.0, 0.0, 0.0, 0.0, 0.0, ...</td>\n      <td>0.611111</td>\n    </tr>\n    <tr>\n      <th>1</th>\n      <td>585</td>\n      <td>Monsters, Inc.</td>\n      <td>[0.0, 0.0, 0.0, 0.0, 0.0, 0.0, 0.0, 0.0, 0.0, ...</td>\n      <td>1.611111</td>\n    </tr>\n    <tr>\n      <th>2</th>\n      <td>314</td>\n      <td>Catwoman</td>\n      <td>[0.0, 0.0, 0.0, 0.0, 0.0, 0.0, 0.0, 0.0, 0.0, ...</td>\n      <td>0.611111</td>\n    </tr>\n    <tr>\n      <th>3</th>\n      <td>508</td>\n      <td>Love Actually</td>\n      <td>[0.0, 0.0, 0.0, 0.0, 0.0, 0.0, 0.0, 0.0, 0.0, ...</td>\n      <td>0.611111</td>\n    </tr>\n    <tr>\n      <th>4</th>\n      <td>509</td>\n      <td>Notting Hill</td>\n      <td>[0.0, 0.0, 0.0, 0.0, 0.0, 0.0, 0.0, 0.0, 0.0, ...</td>\n      <td>0.611111</td>\n    </tr>\n    <tr>\n      <th>5</th>\n      <td>350</td>\n      <td>The Devil Wears Prada</td>\n      <td>[0.0, 0.0, 0.0, 0.0, 0.0, 0.0, 0.0, 0.38372335...</td>\n      <td>0.611111</td>\n    </tr>\n    <tr>\n      <th>6</th>\n      <td>590</td>\n      <td>The Hours</td>\n      <td>[0.0, 0.0, 0.0, 0.0, 0.0, 0.0, 0.0, 0.0, 0.0, ...</td>\n      <td>1.611111</td>\n    </tr>\n    <tr>\n      <th>7</th>\n      <td>454</td>\n      <td>Romeo + Juliet</td>\n      <td>[0.0, 0.0, 0.0, 0.0, 0.0, 0.0, 0.0, 0.0, 0.0, ...</td>\n      <td>0.611111</td>\n    </tr>\n    <tr>\n      <th>8</th>\n      <td>253</td>\n      <td>Live and Let Die</td>\n      <td>[0.35290869112496365, 0.0, 0.0, 0.0, 0.0, 0.0,...</td>\n      <td>0.611111</td>\n    </tr>\n    <tr>\n      <th>9</th>\n      <td>153</td>\n      <td>Lost in Translation</td>\n      <td>[0.0, 0.0, 0.0, 0.0, 0.4472135954999579, 0.0, ...</td>\n      <td>0.611111</td>\n    </tr>\n  </tbody>\n</table>\n</div>"
     },
     "metadata": {},
     "execution_count": 11
    }
   ],
   "source": [
    "#add user ratings into items profile\n",
    "top_rated_data = pd.merge(top_rated_data, top_ratings, left_on='id', right_on='movieId')\n",
    "top_rated_data[['id', 'title', 'profile', 'rating']]"
   ]
  },
  {
   "cell_type": "code",
   "execution_count": 12,
   "metadata": {},
   "outputs": [],
   "source": [
    "#transform profile to numpy array\n",
    "import numpy\n",
    "top_rated_data['profile'] = top_rated_data['profile'].apply(lambda v: numpy.array(v))"
   ]
  },
  {
   "cell_type": "code",
   "execution_count": 13,
   "metadata": {},
   "outputs": [
    {
     "output_type": "execute_result",
     "data": {
      "text/plain": [
       "array([0.02658901, 0.        , 0.        , 0.        , 0.03369418,\n",
       "       0.        , 0.03369418, 0.02891066, 0.        , 0.        ,\n",
       "       0.03015819, 0.        , 0.        , 0.        , 0.        ,\n",
       "       0.        , 0.0313073 , 0.        , 0.07821208, 0.03020545,\n",
       "       0.        , 0.02988726, 0.03020545, 0.        , 0.        ,\n",
       "       0.        , 0.        , 0.        , 0.        , 0.        ,\n",
       "       0.        , 0.        , 0.05468239, 0.        , 0.087964  ,\n",
       "       0.        , 0.        , 0.        , 0.        , 0.        ,\n",
       "       0.        , 0.0313073 , 0.        , 0.        , 0.        ,\n",
       "       0.        , 0.02785234, 0.        , 0.        , 0.02572019,\n",
       "       0.        , 0.        , 0.        , 0.03020545, 0.02940863,\n",
       "       0.        , 0.        , 0.02891066, 0.02940863, 0.07821208,\n",
       "       0.        , 0.07821208, 0.        , 0.        , 0.        ,\n",
       "       0.        , 0.02940863, 0.        , 0.        , 0.0313073 ,\n",
       "       0.        , 0.        , 0.        , 0.09298225, 0.03020545,\n",
       "       0.0313073 , 0.        , 0.02940863, 0.        , 0.        ,\n",
       "       0.        , 0.        , 0.03369418, 0.03020545, 0.        ,\n",
       "       0.07821208, 0.        , 0.02988726, 0.        , 0.        ,\n",
       "       0.0313073 , 0.02891066, 0.02891066, 0.09298225, 0.        ,\n",
       "       0.        , 0.        , 0.        , 0.        , 0.        ,\n",
       "       0.13697426, 0.        , 0.        , 0.02940863, 0.03015819,\n",
       "       0.        , 0.07821208, 0.        , 0.        , 0.        ,\n",
       "       0.09298225, 0.        , 0.        , 0.        , 0.        ,\n",
       "       0.        , 0.06958089, 0.        , 0.        , 0.        ,\n",
       "       0.        , 0.        , 0.02988726, 0.03015819, 0.        ,\n",
       "       0.        , 0.02891066, 0.        , 0.        , 0.        ,\n",
       "       0.        , 0.        , 0.        , 0.        , 0.02940863,\n",
       "       0.0313073 , 0.02891066, 0.        , 0.        , 0.        ,\n",
       "       0.02683005, 0.03369418, 0.        , 0.03015819, 0.        ,\n",
       "       0.        , 0.0313073 , 0.0313073 , 0.0313073 , 0.        ,\n",
       "       0.        , 0.        , 0.        , 0.09298225, 0.        ,\n",
       "       0.0244687 , 0.        , 0.02988726, 0.03369418, 0.        ,\n",
       "       0.        , 0.        , 0.        , 0.        , 0.0313073 ,\n",
       "       0.        , 0.        , 0.        , 0.02988726])"
      ]
     },
     "metadata": {},
     "execution_count": 13
    }
   ],
   "source": [
    "#calc weighted item profiles = item profile * rating\n",
    "top_rated_data['weighted_profile'] = top_rated_data['profile'] * top_rated_data['rating']\n",
    "#calc user profile = sum of weighted item profiles / sum of ratings\n",
    "user_profile = top_rated_data['weighted_profile'].sum() / top_rated_data['rating'].sum() \n",
    "user_profile"
   ]
  },
  {
   "cell_type": "code",
   "execution_count": 14,
   "metadata": {},
   "outputs": [
    {
     "output_type": "execute_result",
     "data": {
      "text/plain": [
       "(     id                               title  similarity\n",
       " 0   296  Terminator 3: Rise of the Machines    0.226810\n",
       " 1   272                       Batman Begins    0.025293\n",
       " 2   616                    The Last Samurai    0.024146\n",
       " 3   585                      Monsters, Inc.    0.549221\n",
       " 4   314                            Catwoman    0.200425\n",
       " 5   161                      Ocean's Eleven    0.000000\n",
       " 6   364                      Batman Returns    0.000000\n",
       " 7   587                            Big Fish    0.000000\n",
       " 8   550                          Fight Club    0.000000\n",
       " 9   497                      The Green Mile    0.023357\n",
       " 10  588                         Silent Hill    0.068426\n",
       " 11  593                             Solaris    0.000000\n",
       " 12  508                       Love Actually    0.289978\n",
       " 13  509                        Notting Hill    0.346835\n",
       " 14  165          Back to the Future Part II    0.068605\n",
       " 15  350               The Devil Wears Prada    0.200425\n",
       " 16  377           A Nightmare on Elm Street    0.000000\n",
       " 17  186                 Lucky Number Slevin    0.020467\n",
       " 18  590                           The Hours    0.591189\n",
       " 19  168       Star Trek IV: The Voyage Home    0.024365\n",
       " 20  539                              Psycho    0.000000\n",
       " 21  586                         Wag the Dog    0.000000\n",
       " 22  454                      Romeo + Juliet    0.226810\n",
       " 23  319                        True Romance    0.020795\n",
       " 24   62               2001: A Space Odyssey    0.000000\n",
       " 25  235                         Stand by Me    0.000000\n",
       " 26  253                    Live and Let Die    0.291151\n",
       " 27  153                 Lost in Translation    0.200425,\n",
       " 0     0.611111\n",
       " 1    -0.388889\n",
       " 2    -0.388889\n",
       " 3     1.611111\n",
       " 4     0.611111\n",
       " 5    -0.388889\n",
       " 6    -0.388889\n",
       " 7    -0.388889\n",
       " 8    -0.388889\n",
       " 9    -0.388889\n",
       " 10   -0.388889\n",
       " 11   -0.388889\n",
       " 12    0.611111\n",
       " 13    0.611111\n",
       " 14   -0.388889\n",
       " 15    0.611111\n",
       " 16   -0.388889\n",
       " 17   -0.388889\n",
       " 18    1.611111\n",
       " 19   -0.388889\n",
       " 20   -0.388889\n",
       " 21   -0.388889\n",
       " 22    0.611111\n",
       " 23   -2.388889\n",
       " 24   -0.388889\n",
       " 25   -0.388889\n",
       " 26    0.611111\n",
       " 27    0.611111\n",
       " Name: rating, dtype: float64)"
      ]
     },
     "metadata": {},
     "execution_count": 14
    }
   ],
   "source": [
    "from sklearn.metrics.pairwise import cosine_similarity\n",
    "#calculate simularity of user profile with all items profiles\n",
    "def calc_sim(movie):\n",
    "    sim = cosine_similarity([user_profile], [movie])\n",
    "    return sim[0][0]\n",
    "#x_train = x_train.loc[x_train['profile'] == x_train['profile']]\n",
    "x_train['similarity'] = x_train['profile'].apply(calc_sim)\n",
    "x_train[['id', 'title', 'similarity']], y_train"
   ]
  },
  {
   "cell_type": "code",
   "execution_count": 75,
   "metadata": {},
   "outputs": [
    {
     "output_type": "execute_result",
     "data": {
      "text/plain": [
       "LinearRegression()"
      ]
     },
     "metadata": {},
     "execution_count": 75
    }
   ],
   "source": [
    "import numpy as np\n",
    "from sklearn.linear_model import LinearRegression\n",
    "model = LinearRegression()\n",
    "X = x_train['similarity'].values.reshape((-1, 1))\n",
    "y = np.array(y_train.values)\n",
    "model.fit(X, y)\n",
    "#y_pred = model.predict(x)\n",
    "#x_train['similarity'] = x_train['similarity'].apply(lambda x: np.array([x]))\n",
    "#y_train = y_train.apply(lambda x: np.array([x]))\n",
    "#print(y_train)\n",
    "#X = np.array(x_train['arr_similarity'])\n",
    "#y = y_train.values"
   ]
  },
  {
   "cell_type": "code",
   "execution_count": null,
   "metadata": {},
   "outputs": [],
   "source": []
  }
 ]
}